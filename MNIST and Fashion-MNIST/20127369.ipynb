{
  "nbformat": 4,
  "nbformat_minor": 0,
  "metadata": {
    "colab": {
      "provenance": []
    },
    "kernelspec": {
      "name": "python3",
      "display_name": "Python 3"
    },
    "language_info": {
      "name": "python"
    },
    "accelerator": "TPU",
    "gpuClass": "standard"
  },
  "cells": [
    {
      "cell_type": "markdown",
      "source": [
        "#Student name: Le Quoc Trung\n",
        "#Studnent ID: 20127369"
      ],
      "metadata": {
        "id": "akkXsrDJs92P"
      }
    },
    {
      "cell_type": "code",
      "execution_count": 32,
      "metadata": {
        "id": "SkfiAEu1f3GG"
      },
      "outputs": [],
      "source": [
        "from keras.layers import Dense, Conv2D, MaxPool2D, Flatten\n",
        "from keras import models\n",
        "from keras.datasets import mnist, fashion_mnist\n",
        "from keras import utils\n",
        "from keras import Input\n",
        "from keras.optimizers import Adam\n",
        "from keras.preprocessing.image import ImageDataGenerator\n",
        "from keras.callbacks import ReduceLROnPlateau\n",
        "from sklearn.model_selection import train_test_split\n",
        "import matplotlib.pyplot as plt\n",
        "import numpy as np "
      ]
    },
    {
      "cell_type": "markdown",
      "source": [
        "# load data from build-in library"
      ],
      "metadata": {
        "id": "HhcJ2qQ8g882"
      }
    },
    {
      "cell_type": "markdown",
      "source": [
        "# Fashion MNIST datasets"
      ],
      "metadata": {
        "id": "oVlCpp7vh_5P"
      }
    },
    {
      "cell_type": "code",
      "source": [
        "(x_train_fashion_mnist, y_train_fashion_mnist), (x_test_fashion_mnist, y_test_fashion_mnist) = fashion_mnist.load_data()"
      ],
      "metadata": {
        "id": "HM0gHBs7g2VL"
      },
      "execution_count": 33,
      "outputs": []
    },
    {
      "cell_type": "code",
      "source": [
        "class_names = [\"T-shirt/top\", \"Trouser\", \"Pullover\", \"Dress\", \"Coat\",\n",
        "               \"Sandal\", \"Shirt\", \"Sneaker\", \"Bag\", \"Ankle boot\"]\n",
        "class_nums = len(class_names)\n",
        "input_shape = (28, 28, 1)"
      ],
      "metadata": {
        "id": "4wx6yRLfkPKY"
      },
      "execution_count": 34,
      "outputs": []
    },
    {
      "cell_type": "markdown",
      "source": [
        "# MNIST data"
      ],
      "metadata": {
        "id": "mME6QEPLiE65"
      }
    },
    {
      "cell_type": "code",
      "source": [
        "(x_train_mnist, y_train_mnist), (x_test_mnist, y_test_mnist) = mnist.load_data()"
      ],
      "metadata": {
        "id": "kDy9jqD4isU8"
      },
      "execution_count": 35,
      "outputs": []
    },
    {
      "cell_type": "markdown",
      "source": [
        "# Preprocessing, review data"
      ],
      "metadata": {
        "id": "Kkq9LgEci9Zg"
      }
    },
    {
      "cell_type": "code",
      "source": [
        "x_train_fashion_mnist = x_train_fashion_mnist.reshape(60000, 28, 28, 1)\n",
        "x_test_fashion_mnist = x_test_fashion_mnist.reshape(10000, 28, 28, 1)\n",
        "x_train_fashion_mnist, x_val_fashion_mnist, y_train_fashion_mnist, y_val_fashion_mnist = train_test_split(x_train_fashion_mnist, \n",
        "                                                                                                           y_train_fashion_mnist,\n",
        "                                                                                                           test_size = 0.1,\n",
        "                                                                                                           shuffle=True,\n",
        "                                                                                                           random_state=20127369)\n",
        "print(x_train_fashion_mnist.shape)\n",
        "print(y_train_fashion_mnist.shape)\n",
        "print(x_test_fashion_mnist.shape)\n",
        "print(y_test_fashion_mnist.shape)"
      ],
      "metadata": {
        "colab": {
          "base_uri": "https://localhost:8080/"
        },
        "id": "T5DEaK7Nhvlh",
        "outputId": "d57371d1-e65e-4274-8ee6-f8c7aeb6a322"
      },
      "execution_count": 36,
      "outputs": [
        {
          "output_type": "stream",
          "name": "stdout",
          "text": [
            "(54000, 28, 28, 1)\n",
            "(54000,)\n",
            "(10000, 28, 28, 1)\n",
            "(10000,)\n"
          ]
        }
      ]
    },
    {
      "cell_type": "code",
      "source": [
        "x_train_mnist = x_train_mnist.reshape(60000, 28, 28, 1)\n",
        "x_test_mnist = x_test_mnist.reshape(10000, 28, 28, 1)\n",
        "x_train_mnist, x_val_mnist, y_train_mnist, y_val_mnist = train_test_split(x_train_mnist,\n",
        "                                                                          y_train_mnist,\n",
        "                                                                          test_size = 0.1,\n",
        "                                                                          shuffle=True,\n",
        "                                                                          random_state=20127369)\n",
        "print(x_train_mnist.shape)\n",
        "print(y_train_mnist.shape)\n",
        "print(x_test_mnist.shape)\n",
        "print(y_test_mnist.shape)"
      ],
      "metadata": {
        "colab": {
          "base_uri": "https://localhost:8080/"
        },
        "id": "bGZEv0ppjECJ",
        "outputId": "f5833e44-aaa6-4955-94db-c55a1271ff6f"
      },
      "execution_count": 37,
      "outputs": [
        {
          "output_type": "stream",
          "name": "stdout",
          "text": [
            "(54000, 28, 28, 1)\n",
            "(54000,)\n",
            "(10000, 28, 28, 1)\n",
            "(10000,)\n"
          ]
        }
      ]
    },
    {
      "cell_type": "code",
      "source": [
        "# Normalization\n",
        "x_train_fashion_mnist.astype('float32')/255\n",
        "y_train_fashion_mnist.astype('float32')/255\n",
        "x_test_fashion_mnist.astype('float32')/255\n",
        "y_test_fashion_mnist.astype('float32')/255"
      ],
      "metadata": {
        "colab": {
          "base_uri": "https://localhost:8080/"
        },
        "id": "5s805P1OjTrn",
        "outputId": "9e7da72c-2f0b-48d0-ab88-8eae46756047"
      },
      "execution_count": 38,
      "outputs": [
        {
          "output_type": "execute_result",
          "data": {
            "text/plain": [
              "array([0.03529412, 0.00784314, 0.00392157, ..., 0.03137255, 0.00392157,\n",
              "       0.01960784], dtype=float32)"
            ]
          },
          "metadata": {},
          "execution_count": 38
        }
      ]
    },
    {
      "cell_type": "code",
      "source": [
        "x_train_mnist.astype('float32')/255\n",
        "y_train_mnist.astype('float32')/255\n",
        "x_test_mnist.astype('float32')/255\n",
        "y_test_mnist.astype('float32')/255"
      ],
      "metadata": {
        "colab": {
          "base_uri": "https://localhost:8080/"
        },
        "id": "ip3b9GjccThN",
        "outputId": "a66faf16-ba9d-4f7a-df6d-a33d917ffb5d"
      },
      "execution_count": 39,
      "outputs": [
        {
          "output_type": "execute_result",
          "data": {
            "text/plain": [
              "array([0.02745098, 0.00784314, 0.00392157, ..., 0.01568628, 0.01960784,\n",
              "       0.02352941], dtype=float32)"
            ]
          },
          "metadata": {},
          "execution_count": 39
        }
      ]
    },
    {
      "cell_type": "code",
      "source": [
        "y_train_fashion_mnist = utils.to_categorical(y_train_fashion_mnist)\n",
        "y_val_fashion_mnist = utils.to_categorical(y_val_fashion_mnist)\n",
        "y_test_fashion_mnist = utils.to_categorical(y_test_fashion_mnist)\n",
        "\n",
        "y_train_fashion_mnist = y_train_fashion_mnist.astype('b')\n",
        "y_val_fashion_mnist = y_val_fashion_mnist.astype('b')\n",
        "y_test_fashion_mnist = y_test_fashion_mnist.astype('b')\n",
        "\n",
        "\n",
        "#test\n",
        "print(y_train_fashion_mnist[1])\n",
        "print(y_val_fashion_mnist[1])\n",
        "print(y_test_fashion_mnist[1])"
      ],
      "metadata": {
        "colab": {
          "base_uri": "https://localhost:8080/"
        },
        "id": "yeR4jZM-kDWO",
        "outputId": "d6de7992-9f53-46ec-bde9-076b2def3d61"
      },
      "execution_count": 40,
      "outputs": [
        {
          "output_type": "stream",
          "name": "stdout",
          "text": [
            "[0 0 0 0 0 1 0 0 0 0]\n",
            "[1 0 0 0 0 0 0 0 0 0]\n",
            "[0 0 1 0 0 0 0 0 0 0]\n"
          ]
        }
      ]
    },
    {
      "cell_type": "code",
      "source": [
        "y_train_mnist = utils.to_categorical(y_train_mnist)\n",
        "y_val_mnist = utils.to_categorical(y_val_mnist)\n",
        "y_test_mnist = utils.to_categorical(y_test_mnist)\n",
        "\n",
        "y_train_mnist = y_train_mnist.astype('b')\n",
        "y_val_mnist = y_val_mnist.astype('b')\n",
        "y_test_mnist = y_test_mnist.astype('b')\n",
        "\n",
        "\n",
        "#test\n",
        "print(y_train_fashion_mnist[1])\n",
        "print(y_val_fashion_mnist[1])\n",
        "print(y_test_fashion_mnist[1])"
      ],
      "metadata": {
        "colab": {
          "base_uri": "https://localhost:8080/"
        },
        "id": "HfRYnaaMQx-K",
        "outputId": "75ba5f4f-af55-43d1-c344-d5d28384aa04"
      },
      "execution_count": 41,
      "outputs": [
        {
          "output_type": "stream",
          "name": "stdout",
          "text": [
            "[0 0 0 0 0 1 0 0 0 0]\n",
            "[1 0 0 0 0 0 0 0 0 0]\n",
            "[0 0 1 0 0 0 0 0 0 0]\n"
          ]
        }
      ]
    },
    {
      "cell_type": "markdown",
      "source": [
        "# CNN"
      ],
      "metadata": {
        "id": "NIc5IN3HlHJm"
      }
    },
    {
      "cell_type": "code",
      "source": [
        "model = models.Sequential()\n",
        "\n",
        "model.add(Conv2D(32, kernel_size=(3, 3), activation=\"relu\", input_shape = input_shape)),\n",
        "model.add(Conv2D(64, kernel_size=(3, 3), activation=\"relu\"))\n",
        "model.add(MaxPool2D(pool_size=(2, 2)))\n",
        "model.add(Flatten())\n",
        "model.add(Dense(64, activation=\"relu\"))\n",
        "model.add(Dense(10, activation=\"softmax\"))"
      ],
      "metadata": {
        "id": "yuRwwVq2qd3O"
      },
      "execution_count": 42,
      "outputs": []
    },
    {
      "cell_type": "code",
      "source": [
        "model.build()\n",
        "model.compile(optimizer='adam', loss='categorical_crossentropy', metrics=['accuracy'])\n",
        "model.summary()"
      ],
      "metadata": {
        "colab": {
          "base_uri": "https://localhost:8080/"
        },
        "id": "fkeMdWscvAh5",
        "outputId": "d8ce7735-bb66-434c-8103-23a54c0f4d43"
      },
      "execution_count": null,
      "outputs": [
        {
          "output_type": "stream",
          "name": "stdout",
          "text": [
            "Model: \"sequential_17\"\n",
            "_________________________________________________________________\n",
            " Layer (type)                Output Shape              Param #   \n",
            "=================================================================\n",
            " conv2d_34 (Conv2D)          (None, 26, 26, 32)        320       \n",
            "                                                                 \n",
            " conv2d_35 (Conv2D)          (None, 24, 24, 64)        18496     \n",
            "                                                                 \n",
            " max_pooling2d_29 (MaxPoolin  (None, 12, 12, 64)       0         \n",
            " g2D)                                                            \n",
            "                                                                 \n",
            " flatten_17 (Flatten)        (None, 9216)              0         \n",
            "                                                                 \n",
            " dense_42 (Dense)            (None, 64)                589888    \n",
            "                                                                 \n",
            " dense_43 (Dense)            (None, 10)                650       \n",
            "                                                                 \n",
            "=================================================================\n",
            "Total params: 609,354\n",
            "Trainable params: 609,354\n",
            "Non-trainable params: 0\n",
            "_________________________________________________________________\n"
          ]
        }
      ]
    },
    {
      "cell_type": "code",
      "source": [
        "history = model.fit(x_train_fashion_mnist,\n",
        "                    y_train_fashion_mnist,\n",
        "                    validation_data = (x_val_fashion_mnist, y_val_fashion_mnist),\n",
        "                    epochs=30,\n",
        "                    batch_size = 256)"
      ],
      "metadata": {
        "colab": {
          "base_uri": "https://localhost:8080/"
        },
        "id": "Em1Unfb7Z6Tm",
        "outputId": "a84f5f61-90ad-421a-b221-3a0b246a8d7d"
      },
      "execution_count": null,
      "outputs": [
        {
          "output_type": "stream",
          "name": "stdout",
          "text": [
            "Epoch 1/30\n",
            "211/211 [==============================] - 4s 12ms/step - loss: 2.0113 - accuracy: 0.7833 - val_loss: 0.3592 - val_accuracy: 0.8732\n",
            "Epoch 2/30\n",
            "211/211 [==============================] - 2s 11ms/step - loss: 0.2954 - accuracy: 0.8950 - val_loss: 0.3124 - val_accuracy: 0.8923\n",
            "Epoch 3/30\n",
            "211/211 [==============================] - 2s 11ms/step - loss: 0.2390 - accuracy: 0.9137 - val_loss: 0.2753 - val_accuracy: 0.8992\n",
            "Epoch 4/30\n",
            "211/211 [==============================] - 2s 11ms/step - loss: 0.2014 - accuracy: 0.9266 - val_loss: 0.2770 - val_accuracy: 0.9022\n",
            "Epoch 5/30\n",
            "211/211 [==============================] - 2s 10ms/step - loss: 0.1763 - accuracy: 0.9357 - val_loss: 0.2716 - val_accuracy: 0.9030\n",
            "Epoch 6/30\n",
            "211/211 [==============================] - 2s 11ms/step - loss: 0.1538 - accuracy: 0.9443 - val_loss: 0.2715 - val_accuracy: 0.9077\n",
            "Epoch 7/30\n",
            "211/211 [==============================] - 2s 11ms/step - loss: 0.1337 - accuracy: 0.9509 - val_loss: 0.2896 - val_accuracy: 0.9120\n",
            "Epoch 8/30\n",
            "211/211 [==============================] - 2s 11ms/step - loss: 0.1217 - accuracy: 0.9547 - val_loss: 0.3281 - val_accuracy: 0.9000\n",
            "Epoch 9/30\n",
            "211/211 [==============================] - 2s 11ms/step - loss: 0.1061 - accuracy: 0.9604 - val_loss: 0.3103 - val_accuracy: 0.9118\n",
            "Epoch 10/30\n",
            "211/211 [==============================] - 2s 10ms/step - loss: 0.0904 - accuracy: 0.9668 - val_loss: 0.3396 - val_accuracy: 0.9065\n",
            "Epoch 11/30\n",
            "211/211 [==============================] - 2s 11ms/step - loss: 0.0877 - accuracy: 0.9675 - val_loss: 0.3726 - val_accuracy: 0.9037\n",
            "Epoch 12/30\n",
            "211/211 [==============================] - 2s 11ms/step - loss: 0.0744 - accuracy: 0.9726 - val_loss: 0.3650 - val_accuracy: 0.9067\n",
            "Epoch 13/30\n",
            "211/211 [==============================] - 2s 12ms/step - loss: 0.0678 - accuracy: 0.9754 - val_loss: 0.3826 - val_accuracy: 0.9093\n",
            "Epoch 14/30\n",
            "211/211 [==============================] - 2s 11ms/step - loss: 0.0652 - accuracy: 0.9758 - val_loss: 0.3788 - val_accuracy: 0.9082\n",
            "Epoch 15/30\n",
            "211/211 [==============================] - 2s 11ms/step - loss: 0.0633 - accuracy: 0.9767 - val_loss: 0.4218 - val_accuracy: 0.9083\n",
            "Epoch 16/30\n",
            "211/211 [==============================] - 2s 10ms/step - loss: 0.0572 - accuracy: 0.9791 - val_loss: 0.4040 - val_accuracy: 0.9095\n",
            "Epoch 17/30\n",
            "211/211 [==============================] - 2s 10ms/step - loss: 0.0521 - accuracy: 0.9805 - val_loss: 0.4899 - val_accuracy: 0.9035\n",
            "Epoch 18/30\n",
            "211/211 [==============================] - 2s 11ms/step - loss: 0.0475 - accuracy: 0.9830 - val_loss: 0.4748 - val_accuracy: 0.9022\n",
            "Epoch 19/30\n",
            "211/211 [==============================] - 2s 11ms/step - loss: 0.0479 - accuracy: 0.9823 - val_loss: 0.5707 - val_accuracy: 0.8957\n",
            "Epoch 20/30\n",
            "211/211 [==============================] - 2s 11ms/step - loss: 0.0403 - accuracy: 0.9849 - val_loss: 0.4944 - val_accuracy: 0.9077\n",
            "Epoch 21/30\n",
            "211/211 [==============================] - 2s 10ms/step - loss: 0.0294 - accuracy: 0.9893 - val_loss: 0.5417 - val_accuracy: 0.9100\n",
            "Epoch 22/30\n",
            "211/211 [==============================] - 2s 11ms/step - loss: 0.0331 - accuracy: 0.9886 - val_loss: 0.5612 - val_accuracy: 0.9030\n",
            "Epoch 23/30\n",
            "211/211 [==============================] - 2s 11ms/step - loss: 0.0436 - accuracy: 0.9847 - val_loss: 0.5766 - val_accuracy: 0.9073\n",
            "Epoch 24/30\n",
            "211/211 [==============================] - 2s 11ms/step - loss: 0.0399 - accuracy: 0.9859 - val_loss: 0.5474 - val_accuracy: 0.9073\n",
            "Epoch 25/30\n",
            "211/211 [==============================] - 2s 11ms/step - loss: 0.0282 - accuracy: 0.9899 - val_loss: 0.5647 - val_accuracy: 0.9082\n",
            "Epoch 26/30\n",
            "211/211 [==============================] - 2s 11ms/step - loss: 0.0310 - accuracy: 0.9889 - val_loss: 0.5825 - val_accuracy: 0.9097\n",
            "Epoch 27/30\n",
            "211/211 [==============================] - 2s 11ms/step - loss: 0.0344 - accuracy: 0.9879 - val_loss: 0.6255 - val_accuracy: 0.8988\n",
            "Epoch 28/30\n",
            "211/211 [==============================] - 2s 11ms/step - loss: 0.0313 - accuracy: 0.9895 - val_loss: 0.6069 - val_accuracy: 0.9020\n",
            "Epoch 29/30\n",
            "211/211 [==============================] - 3s 12ms/step - loss: 0.0320 - accuracy: 0.9882 - val_loss: 0.6329 - val_accuracy: 0.9020\n",
            "Epoch 30/30\n",
            "211/211 [==============================] - 2s 11ms/step - loss: 0.0261 - accuracy: 0.9907 - val_loss: 0.6463 - val_accuracy: 0.9127\n"
          ]
        }
      ]
    },
    {
      "cell_type": "code",
      "source": [
        "test_score = model.evaluate(x_test_fashion_mnist, y_test_fashion_mnist, batch_size = 32)\n",
        "print(test_score)"
      ],
      "metadata": {
        "colab": {
          "base_uri": "https://localhost:8080/"
        },
        "id": "Xu4ASAd8el6T",
        "outputId": "7955fb49-4c04-459c-d710-aa105233a32e"
      },
      "execution_count": null,
      "outputs": [
        {
          "output_type": "stream",
          "name": "stdout",
          "text": [
            "313/313 [==============================] - 1s 3ms/step - loss: 0.8243 - accuracy: 0.9002\n",
            "[0.8243240118026733, 0.9002000093460083]\n"
          ]
        }
      ]
    },
    {
      "cell_type": "code",
      "source": [
        "plot1 = history.history\n",
        "     \n",
        "\n",
        "train_loss, val_loss = plot1['loss'], plot1['val_loss']\n",
        "train_acc, val_acc = plot1['accuracy'], plot1['val_accuracy']\n",
        "     \n",
        "\n",
        "fig, (ax1, ax2) = plt.subplots(1,2, figsize=(15,5))\n",
        "epoch_runs = [i+1 for i in range(30)]\n",
        "ax1.plot(epoch_runs, train_loss, label=\"Training Loss\")\n",
        "ax1.plot(epoch_runs, val_loss, marker='o', label=\"Val Loss\")\n",
        "ax1.set(title='Training and Validation Loss', xlabel='Epochs', ylabel='Loss')\n",
        "ax1.legend()\n",
        "\n",
        "ax2.plot(epoch_runs, train_acc, label=\"Training Acc\")\n",
        "ax2.plot(epoch_runs, val_acc, marker='o', label=\"Val Acc\")\n",
        "ax2.set(title='Training and Validation Accuracy', xlabel='Epochs', ylabel='Acc', ylim=[0.6, 1])\n",
        "plt.show()"
      ],
      "metadata": {
        "colab": {
          "base_uri": "https://localhost:8080/",
          "height": 369
        },
        "id": "gAGtFTfReEO2",
        "outputId": "4bd053a6-a553-45b2-9c09-c4fb78ad67b1"
      },
      "execution_count": null,
      "outputs": [
        {
          "output_type": "display_data",
          "data": {
            "text/plain": [
              "<Figure size 1500x500 with 2 Axes>"
            ],
            "image/png": "[encoded data removed]"
          },
          "metadata": {}
        }
      ]
    },
    {
      "cell_type": "code",
      "source": [
        "history = model.fit(x_train_mnist,\n",
        "                    y_train_mnist,\n",
        "                    validation_data = (x_val_mnist, y_val_mnist),\n",
        "                    epochs=30,\n",
        "                    batch_size = 256)"
      ],
      "metadata": {
        "colab": {
          "base_uri": "https://localhost:8080/"
        },
        "id": "qCjZywoS58cw",
        "outputId": "589ca01f-32bb-4b5f-c371-01575954074c"
      },
      "execution_count": null,
      "outputs": [
        {
          "output_type": "stream",
          "name": "stdout",
          "text": [
            "Epoch 1/30\n",
            "211/211 [==============================] - 4s 15ms/step - loss: 1.1538 - accuracy: 0.8811 - val_loss: 0.1044 - val_accuracy: 0.9703\n",
            "Epoch 2/30\n",
            "211/211 [==============================] - 2s 11ms/step - loss: 0.0647 - accuracy: 0.9802 - val_loss: 0.0754 - val_accuracy: 0.9793\n",
            "Epoch 3/30\n",
            "211/211 [==============================] - 2s 11ms/step - loss: 0.0346 - accuracy: 0.9894 - val_loss: 0.0777 - val_accuracy: 0.9812\n",
            "Epoch 4/30\n",
            "211/211 [==============================] - 2s 12ms/step - loss: 0.0230 - accuracy: 0.9930 - val_loss: 0.0773 - val_accuracy: 0.9835\n",
            "Epoch 5/30\n",
            "211/211 [==============================] - 3s 14ms/step - loss: 0.0158 - accuracy: 0.9949 - val_loss: 0.0880 - val_accuracy: 0.9833\n",
            "Epoch 6/30\n",
            "211/211 [==============================] - 3s 16ms/step - loss: 0.0107 - accuracy: 0.9966 - val_loss: 0.0894 - val_accuracy: 0.9828\n",
            "Epoch 7/30\n",
            "211/211 [==============================] - 2s 10ms/step - loss: 0.0067 - accuracy: 0.9976 - val_loss: 0.0877 - val_accuracy: 0.9838\n",
            "Epoch 8/30\n",
            "211/211 [==============================] - 2s 11ms/step - loss: 0.0067 - accuracy: 0.9981 - val_loss: 0.0911 - val_accuracy: 0.9850\n",
            "Epoch 9/30\n",
            "211/211 [==============================] - 2s 11ms/step - loss: 0.0042 - accuracy: 0.9987 - val_loss: 0.1059 - val_accuracy: 0.9825\n",
            "Epoch 10/30\n",
            "211/211 [==============================] - 2s 11ms/step - loss: 0.0108 - accuracy: 0.9964 - val_loss: 0.1116 - val_accuracy: 0.9813\n",
            "Epoch 11/30\n",
            "211/211 [==============================] - 2s 12ms/step - loss: 0.0126 - accuracy: 0.9959 - val_loss: 0.1152 - val_accuracy: 0.9817\n",
            "Epoch 12/30\n",
            "211/211 [==============================] - 2s 11ms/step - loss: 0.0080 - accuracy: 0.9974 - val_loss: 0.1153 - val_accuracy: 0.9832\n",
            "Epoch 13/30\n",
            "211/211 [==============================] - 2s 11ms/step - loss: 0.0060 - accuracy: 0.9980 - val_loss: 0.1123 - val_accuracy: 0.9820\n",
            "Epoch 14/30\n",
            "211/211 [==============================] - 2s 11ms/step - loss: 0.0054 - accuracy: 0.9985 - val_loss: 0.1313 - val_accuracy: 0.9803\n",
            "Epoch 15/30\n",
            "211/211 [==============================] - 2s 12ms/step - loss: 0.0075 - accuracy: 0.9979 - val_loss: 0.1338 - val_accuracy: 0.9838\n",
            "Epoch 16/30\n",
            "211/211 [==============================] - 2s 12ms/step - loss: 0.0062 - accuracy: 0.9981 - val_loss: 0.1488 - val_accuracy: 0.9817\n",
            "Epoch 17/30\n",
            "211/211 [==============================] - 2s 11ms/step - loss: 0.0069 - accuracy: 0.9978 - val_loss: 0.1476 - val_accuracy: 0.9808\n",
            "Epoch 18/30\n",
            "211/211 [==============================] - 2s 11ms/step - loss: 0.0047 - accuracy: 0.9984 - val_loss: 0.1359 - val_accuracy: 0.9832\n",
            "Epoch 19/30\n",
            "211/211 [==============================] - 2s 10ms/step - loss: 0.0071 - accuracy: 0.9980 - val_loss: 0.1351 - val_accuracy: 0.9807\n",
            "Epoch 20/30\n",
            "211/211 [==============================] - 2s 11ms/step - loss: 0.0093 - accuracy: 0.9967 - val_loss: 0.1244 - val_accuracy: 0.9832\n",
            "Epoch 21/30\n",
            "211/211 [==============================] - 2s 11ms/step - loss: 0.0047 - accuracy: 0.9985 - val_loss: 0.1527 - val_accuracy: 0.9813\n",
            "Epoch 22/30\n",
            "211/211 [==============================] - 2s 11ms/step - loss: 0.0047 - accuracy: 0.9984 - val_loss: 0.1529 - val_accuracy: 0.9853\n",
            "Epoch 23/30\n",
            "211/211 [==============================] - 2s 11ms/step - loss: 0.0045 - accuracy: 0.9985 - val_loss: 0.1604 - val_accuracy: 0.9807\n",
            "Epoch 24/30\n",
            "211/211 [==============================] - 2s 11ms/step - loss: 0.0042 - accuracy: 0.9988 - val_loss: 0.1610 - val_accuracy: 0.9832\n",
            "Epoch 25/30\n",
            "211/211 [==============================] - 2s 11ms/step - loss: 0.0058 - accuracy: 0.9982 - val_loss: 0.1574 - val_accuracy: 0.9827\n",
            "Epoch 26/30\n",
            "211/211 [==============================] - 2s 11ms/step - loss: 0.0078 - accuracy: 0.9977 - val_loss: 0.1449 - val_accuracy: 0.9818\n",
            "Epoch 27/30\n",
            "211/211 [==============================] - 2s 11ms/step - loss: 0.0071 - accuracy: 0.9981 - val_loss: 0.1587 - val_accuracy: 0.9847\n",
            "Epoch 28/30\n",
            "211/211 [==============================] - 2s 11ms/step - loss: 0.0050 - accuracy: 0.9984 - val_loss: 0.1586 - val_accuracy: 0.9832\n",
            "Epoch 29/30\n",
            "211/211 [==============================] - 2s 11ms/step - loss: 0.0015 - accuracy: 0.9995 - val_loss: 0.1510 - val_accuracy: 0.9857\n",
            "Epoch 30/30\n",
            "211/211 [==============================] - 2s 11ms/step - loss: 0.0023 - accuracy: 0.9993 - val_loss: 0.1603 - val_accuracy: 0.9853\n"
          ]
        }
      ]
    },
    {
      "cell_type": "code",
      "source": [
        "test_score = model.evaluate(x_test_mnist, y_test_mnist, batch_size = 32)\n",
        "print(test_score)"
      ],
      "metadata": {
        "colab": {
          "base_uri": "https://localhost:8080/"
        },
        "id": "QmW7hsIN6EDM",
        "outputId": "fa06c0d2-390b-4caf-90ef-7c04d88542a6"
      },
      "execution_count": null,
      "outputs": [
        {
          "output_type": "stream",
          "name": "stdout",
          "text": [
            "313/313 [==============================] - 1s 3ms/step - loss: 0.1065 - accuracy: 0.9863\n",
            "[0.1064850240945816, 0.986299991607666]\n"
          ]
        }
      ]
    },
    {
      "cell_type": "code",
      "source": [
        "plot1 = history.history\n",
        "     \n",
        "train_loss, val_loss = plot1['loss'], plot1['val_loss']\n",
        "train_acc, val_acc = plot1['accuracy'], plot1['val_accuracy']\n",
        "     \n",
        "\n",
        "fig, (ax1, ax2) = plt.subplots(1,2, figsize=(15,5))\n",
        "epoch_runs = [i+1 for i in range(30)]\n",
        "ax1.plot(epoch_runs, train_loss, label=\"Training Loss\")\n",
        "ax1.plot(epoch_runs, val_loss, marker='o', label=\"Val Loss\")\n",
        "ax1.set(title='Training and Validation Loss', xlabel='Epochs', ylabel='Loss')\n",
        "ax1.legend()\n",
        "\n",
        "ax2.plot(epoch_runs, train_acc, label=\"Training Acc\")\n",
        "ax2.plot(epoch_runs, val_acc, marker='o', label=\"Val Acc\")\n",
        "ax2.set(title='Training and Validation Accuracy', xlabel='Epochs', ylabel='Acc', ylim=[0.6, 1])\n",
        "plt.show()"
      ],
      "metadata": {
        "colab": {
          "base_uri": "https://localhost:8080/",
          "height": 372
        },
        "id": "FP5oWYp76LZ1",
        "outputId": "0cd9b762-47fd-4900-9047-70ac5eb2c2e7"
      },
      "execution_count": null,
      "outputs": [
        {
          "output_type": "display_data",
          "data": {
            "text/plain": [
              "<Figure size 1500x500 with 2 Axes>"
            ],
            "image/png": "[encoded data removed]"
          },
          "metadata": {}
        }
      ]
    },
    {
      "cell_type": "markdown",
      "source": [
        "#LeNet\n"
      ],
      "metadata": {
        "id": "fSl8HrvVcssC"
      }
    },
    {
      "cell_type": "code",
      "source": [
        "LeNet = models.Sequential()\n",
        "\n",
        "\n",
        "LeNet.add(Conv2D(filters=6, kernel_size=(5,5), padding='same', activation='sigmoid', input_shape=input_shape))\n",
        "LeNet.add(MaxPool2D(strides=2))\n",
        "LeNet.add(Conv2D(filters=16, kernel_size=(5,5), padding='valid', activation='sigmoid'))\n",
        "LeNet.add(MaxPool2D(strides=2))\n",
        "LeNet.add(Flatten())\n",
        "LeNet.add(Dense(120, activation='sigmoid'))\n",
        "LeNet.add(Dense(84, activation='sigmoid'))\n",
        "LeNet.add(Dense(10, activation='softmax'))\n",
        "\n",
        "LeNet.build()\n",
        "adam = Adam(lr=5e-4)\n",
        "LeNet.compile(loss='categorical_crossentropy', metrics=['accuracy'], optimizer=adam)\n",
        "LeNet.summary()\n",
        "\n",
        "reduce_lr = ReduceLROnPlateau(monitor='val_accuracy', \n",
        "                                patience=3, \n",
        "                                verbose=1, \n",
        "                                factor=0.2, \n",
        "                                min_lr=1e-6)\n",
        "\n",
        "datagen = ImageDataGenerator(\n",
        "            rotation_range=10, \n",
        "            width_shift_range=0.1, \n",
        "            height_shift_range=0.1, \n",
        "            zoom_range=0.1)\n",
        "datagen.fit(x_train_fashion_mnist)\n",
        "\n",
        "plot_LeNet = LeNet.fit(datagen.flow(x_train_fashion_mnist, \n",
        "                                       y_train_fashion_mnist, \n",
        "                                       batch_size=100), \n",
        "                          steps_per_epoch=len(x_train_fashion_mnist)/100,\n",
        "                          epochs=50, \n",
        "                          validation_data = (x_val_fashion_mnist, y_val_fashion_mnist),\n",
        "                          callbacks=[reduce_lr])"
      ],
      "metadata": {
        "colab": {
          "base_uri": "https://localhost:8080/"
        },
        "id": "yrigxFP2ptOH",
        "outputId": "92643b61-d3eb-4735-e670-a7448b8bbf94"
      },
      "execution_count": 44,
      "outputs": [
        {
          "output_type": "stream",
          "name": "stdout",
          "text": [
            "Model: \"sequential_2\"\n",
            "_________________________________________________________________\n",
            " Layer (type)                Output Shape              Param #   \n",
            "=================================================================\n",
            " conv2d_4 (Conv2D)           (None, 28, 28, 6)         156       \n",
            "                                                                 \n",
            " max_pooling2d_3 (MaxPooling  (None, 14, 14, 6)        0         \n",
            " 2D)                                                             \n",
            "                                                                 \n",
            " conv2d_5 (Conv2D)           (None, 10, 10, 16)        2416      \n",
            "                                                                 \n",
            " max_pooling2d_4 (MaxPooling  (None, 5, 5, 16)         0         \n",
            " 2D)                                                             \n",
            "                                                                 \n",
            " flatten_2 (Flatten)         (None, 400)               0         \n",
            "                                                                 \n",
            " dense_5 (Dense)             (None, 120)               48120     \n",
            "                                                                 \n",
            " dense_6 (Dense)             (None, 84)                10164     \n",
            "                                                                 \n",
            " dense_7 (Dense)             (None, 10)                850       \n",
            "                                                                 \n",
            "=================================================================\n",
            "Total params: 61,706\n",
            "Trainable params: 61,706\n",
            "Non-trainable params: 0\n",
            "_________________________________________________________________\n",
            "Epoch 1/50\n",
            "540/540 [==============================] - 52s 96ms/step - loss: 1.4548 - accuracy: 0.4715 - val_loss: 0.9424 - val_accuracy: 0.6325 - lr: 5.0000e-04\n",
            "Epoch 2/50\n",
            "540/540 [==============================] - 50s 93ms/step - loss: 0.9052 - accuracy: 0.6580 - val_loss: 0.7110 - val_accuracy: 0.7230 - lr: 5.0000e-04\n",
            "Epoch 3/50\n",
            "540/540 [==============================] - 50s 93ms/step - loss: 0.7606 - accuracy: 0.7064 - val_loss: 0.6332 - val_accuracy: 0.7422 - lr: 5.0000e-04\n",
            "Epoch 4/50\n",
            "540/540 [==============================] - 50s 93ms/step - loss: 0.7059 - accuracy: 0.7236 - val_loss: 0.5985 - val_accuracy: 0.7632 - lr: 5.0000e-04\n",
            "Epoch 5/50\n",
            "540/540 [==============================] - 51s 95ms/step - loss: 0.6656 - accuracy: 0.7401 - val_loss: 0.5788 - val_accuracy: 0.7672 - lr: 5.0000e-04\n",
            "Epoch 6/50\n",
            "540/540 [==============================] - 49s 90ms/step - loss: 0.6386 - accuracy: 0.7498 - val_loss: 0.5599 - val_accuracy: 0.7825 - lr: 5.0000e-04\n",
            "Epoch 7/50\n",
            "540/540 [==============================] - 50s 93ms/step - loss: 0.6170 - accuracy: 0.7573 - val_loss: 0.5654 - val_accuracy: 0.7730 - lr: 5.0000e-04\n",
            "Epoch 8/50\n",
            "540/540 [==============================] - 53s 97ms/step - loss: 0.5982 - accuracy: 0.7680 - val_loss: 0.5538 - val_accuracy: 0.7875 - lr: 5.0000e-04\n",
            "Epoch 9/50\n",
            "540/540 [==============================] - 49s 90ms/step - loss: 0.5762 - accuracy: 0.7777 - val_loss: 0.5301 - val_accuracy: 0.7945 - lr: 5.0000e-04\n",
            "Epoch 10/50\n",
            "540/540 [==============================] - 51s 95ms/step - loss: 0.5607 - accuracy: 0.7834 - val_loss: 0.4998 - val_accuracy: 0.8012 - lr: 5.0000e-04\n",
            "Epoch 11/50\n",
            "540/540 [==============================] - 50s 93ms/step - loss: 0.5451 - accuracy: 0.7915 - val_loss: 0.4784 - val_accuracy: 0.8135 - lr: 5.0000e-04\n",
            "Epoch 12/50\n",
            "540/540 [==============================] - 52s 95ms/step - loss: 0.5359 - accuracy: 0.7948 - val_loss: 0.4942 - val_accuracy: 0.8082 - lr: 5.0000e-04\n",
            "Epoch 13/50\n",
            "540/540 [==============================] - 50s 93ms/step - loss: 0.5235 - accuracy: 0.7974 - val_loss: 0.4733 - val_accuracy: 0.8178 - lr: 5.0000e-04\n",
            "Epoch 14/50\n",
            "540/540 [==============================] - 52s 95ms/step - loss: 0.5155 - accuracy: 0.8035 - val_loss: 0.4502 - val_accuracy: 0.8305 - lr: 5.0000e-04\n",
            "Epoch 15/50\n",
            "540/540 [==============================] - 50s 93ms/step - loss: 0.5102 - accuracy: 0.8055 - val_loss: 0.4605 - val_accuracy: 0.8272 - lr: 5.0000e-04\n",
            "Epoch 16/50\n",
            "540/540 [==============================] - 52s 96ms/step - loss: 0.4928 - accuracy: 0.8111 - val_loss: 0.4436 - val_accuracy: 0.8300 - lr: 5.0000e-04\n",
            "Epoch 17/50\n",
            "540/540 [==============================] - 49s 91ms/step - loss: 0.4904 - accuracy: 0.8115 - val_loss: 0.4308 - val_accuracy: 0.8383 - lr: 5.0000e-04\n",
            "Epoch 18/50\n",
            "540/540 [==============================] - 51s 95ms/step - loss: 0.4839 - accuracy: 0.8152 - val_loss: 0.4316 - val_accuracy: 0.8402 - lr: 5.0000e-04\n",
            "Epoch 19/50\n",
            "540/540 [==============================] - 50s 93ms/step - loss: 0.4774 - accuracy: 0.8175 - val_loss: 0.4083 - val_accuracy: 0.8463 - lr: 5.0000e-04\n",
            "Epoch 20/50\n",
            "540/540 [==============================] - 52s 96ms/step - loss: 0.4734 - accuracy: 0.8184 - val_loss: 0.4152 - val_accuracy: 0.8397 - lr: 5.0000e-04\n",
            "Epoch 21/50\n",
            "540/540 [==============================] - 51s 95ms/step - loss: 0.4643 - accuracy: 0.8219 - val_loss: 0.4061 - val_accuracy: 0.8467 - lr: 5.0000e-04\n",
            "Epoch 22/50\n",
            "540/540 [==============================] - 52s 96ms/step - loss: 0.4600 - accuracy: 0.8241 - val_loss: 0.4069 - val_accuracy: 0.8463 - lr: 5.0000e-04\n",
            "Epoch 23/50\n",
            "540/540 [==============================] - 50s 93ms/step - loss: 0.4508 - accuracy: 0.8279 - val_loss: 0.3861 - val_accuracy: 0.8547 - lr: 5.0000e-04\n",
            "Epoch 24/50\n",
            "540/540 [==============================] - 50s 93ms/step - loss: 0.4471 - accuracy: 0.8278 - val_loss: 0.3838 - val_accuracy: 0.8547 - lr: 5.0000e-04\n",
            "Epoch 25/50\n",
            "540/540 [==============================] - 51s 95ms/step - loss: 0.4439 - accuracy: 0.8293 - val_loss: 0.3744 - val_accuracy: 0.8608 - lr: 5.0000e-04\n",
            "Epoch 26/50\n",
            "540/540 [==============================] - 50s 93ms/step - loss: 0.4357 - accuracy: 0.8321 - val_loss: 0.3733 - val_accuracy: 0.8543 - lr: 5.0000e-04\n",
            "Epoch 27/50\n",
            "540/540 [==============================] - 51s 95ms/step - loss: 0.4334 - accuracy: 0.8347 - val_loss: 0.3723 - val_accuracy: 0.8582 - lr: 5.0000e-04\n",
            "Epoch 28/50\n",
            "540/540 [==============================] - 51s 95ms/step - loss: 0.4281 - accuracy: 0.8355 - val_loss: 0.3690 - val_accuracy: 0.8635 - lr: 5.0000e-04\n",
            "Epoch 29/50\n",
            "540/540 [==============================] - 52s 97ms/step - loss: 0.4258 - accuracy: 0.8366 - val_loss: 0.3848 - val_accuracy: 0.8585 - lr: 5.0000e-04\n",
            "Epoch 30/50\n",
            "540/540 [==============================] - 51s 93ms/step - loss: 0.4243 - accuracy: 0.8382 - val_loss: 0.3587 - val_accuracy: 0.8648 - lr: 5.0000e-04\n",
            "Epoch 31/50\n",
            "540/540 [==============================] - 51s 95ms/step - loss: 0.4156 - accuracy: 0.8417 - val_loss: 0.3545 - val_accuracy: 0.8660 - lr: 5.0000e-04\n",
            "Epoch 32/50\n",
            "540/540 [==============================] - 50s 93ms/step - loss: 0.4159 - accuracy: 0.8407 - val_loss: 0.3621 - val_accuracy: 0.8647 - lr: 5.0000e-04\n",
            "Epoch 33/50\n",
            "540/540 [==============================] - 51s 94ms/step - loss: 0.4125 - accuracy: 0.8429 - val_loss: 0.3491 - val_accuracy: 0.8670 - lr: 5.0000e-04\n",
            "Epoch 34/50\n",
            "540/540 [==============================] - 50s 93ms/step - loss: 0.4089 - accuracy: 0.8444 - val_loss: 0.3549 - val_accuracy: 0.8718 - lr: 5.0000e-04\n",
            "Epoch 35/50\n",
            "540/540 [==============================] - 52s 96ms/step - loss: 0.4065 - accuracy: 0.8455 - val_loss: 0.3428 - val_accuracy: 0.8718 - lr: 5.0000e-04\n",
            "Epoch 36/50\n",
            "540/540 [==============================] - 50s 93ms/step - loss: 0.4012 - accuracy: 0.8469 - val_loss: 0.3413 - val_accuracy: 0.8727 - lr: 5.0000e-04\n",
            "Epoch 37/50\n",
            "540/540 [==============================] - 51s 95ms/step - loss: 0.4038 - accuracy: 0.8454 - val_loss: 0.3322 - val_accuracy: 0.8745 - lr: 5.0000e-04\n",
            "Epoch 38/50\n",
            "540/540 [==============================] - 50s 93ms/step - loss: 0.3968 - accuracy: 0.8473 - val_loss: 0.3536 - val_accuracy: 0.8707 - lr: 5.0000e-04\n",
            "Epoch 39/50\n",
            "540/540 [==============================] - 52s 96ms/step - loss: 0.3965 - accuracy: 0.8492 - val_loss: 0.3430 - val_accuracy: 0.8717 - lr: 5.0000e-04\n",
            "Epoch 40/50\n",
            "540/540 [==============================] - 50s 93ms/step - loss: 0.3954 - accuracy: 0.8490 - val_loss: 0.3338 - val_accuracy: 0.8747 - lr: 5.0000e-04\n",
            "Epoch 41/50\n",
            "540/540 [==============================] - 49s 90ms/step - loss: 0.3920 - accuracy: 0.8483 - val_loss: 0.3398 - val_accuracy: 0.8713 - lr: 5.0000e-04\n",
            "Epoch 42/50\n",
            "540/540 [==============================] - 50s 93ms/step - loss: 0.3931 - accuracy: 0.8509 - val_loss: 0.3415 - val_accuracy: 0.8685 - lr: 5.0000e-04\n",
            "Epoch 43/50\n",
            "540/540 [==============================] - ETA: 0s - loss: 0.3917 - accuracy: 0.8506\n",
            "Epoch 43: ReduceLROnPlateau reducing learning rate to 0.00010000000474974513.\n",
            "540/540 [==============================] - 50s 93ms/step - loss: 0.3917 - accuracy: 0.8506 - val_loss: 0.3544 - val_accuracy: 0.8665 - lr: 5.0000e-04\n",
            "Epoch 44/50\n",
            "540/540 [==============================] - 50s 93ms/step - loss: 0.3715 - accuracy: 0.8580 - val_loss: 0.3345 - val_accuracy: 0.8750 - lr: 1.0000e-04\n",
            "Epoch 45/50\n",
            "540/540 [==============================] - 50s 93ms/step - loss: 0.3762 - accuracy: 0.8580 - val_loss: 0.3291 - val_accuracy: 0.8737 - lr: 1.0000e-04\n",
            "Epoch 46/50\n",
            "540/540 [==============================] - 50s 93ms/step - loss: 0.3735 - accuracy: 0.8578 - val_loss: 0.3291 - val_accuracy: 0.8762 - lr: 1.0000e-04\n",
            "Epoch 47/50\n",
            "540/540 [==============================] - 50s 93ms/step - loss: 0.3666 - accuracy: 0.8606 - val_loss: 0.3311 - val_accuracy: 0.8755 - lr: 1.0000e-04\n",
            "Epoch 48/50\n",
            "540/540 [==============================] - 52s 95ms/step - loss: 0.3697 - accuracy: 0.8586 - val_loss: 0.3290 - val_accuracy: 0.8762 - lr: 1.0000e-04\n",
            "Epoch 49/50\n",
            "540/540 [==============================] - ETA: 0s - loss: 0.3687 - accuracy: 0.8606\n",
            "Epoch 49: ReduceLROnPlateau reducing learning rate to 2.0000000949949027e-05.\n",
            "540/540 [==============================] - 50s 93ms/step - loss: 0.3687 - accuracy: 0.8606 - val_loss: 0.3254 - val_accuracy: 0.8762 - lr: 1.0000e-04\n",
            "Epoch 50/50\n",
            "540/540 [==============================] - 51s 95ms/step - loss: 0.3674 - accuracy: 0.8601 - val_loss: 0.3269 - val_accuracy: 0.8757 - lr: 2.0000e-05\n"
          ]
        }
      ]
    },
    {
      "cell_type": "code",
      "source": [
        "LeNet.evaluate(x_test_fashion_mnist, y_test_fashion_mnist, batch_size = 32)"
      ],
      "metadata": {
        "colab": {
          "base_uri": "https://localhost:8080/"
        },
        "id": "LChLeVvLrX-A",
        "outputId": "97b2dba2-8cd5-4e88-921a-a89cdf59e962"
      },
      "execution_count": null,
      "outputs": [
        {
          "output_type": "stream",
          "name": "stdout",
          "text": [
            "313/313 [==============================] - 1s 3ms/step - loss: 0.3789 - accuracy: 0.8582\n"
          ]
        },
        {
          "output_type": "execute_result",
          "data": {
            "text/plain": [
              "[0.37888485193252563, 0.8582000136375427]"
            ]
          },
          "metadata": {},
          "execution_count": 103
        }
      ]
    },
    {
      "cell_type": "code",
      "source": [
        "history_LeNet = plot_LeNet.history\n",
        "     \n",
        "\n",
        "train_loss, val_loss = history_LeNet['loss'], history_LeNet['val_loss']\n",
        "train_acc, val_acc = history_LeNet['accuracy'], history_LeNet['val_accuracy']\n",
        "     \n",
        "\n",
        "fig, (ax1, ax2) = plt.subplots(1,2, figsize=(15,5))\n",
        "epoch_runs = [i+1 for i in range(50)]\n",
        "ax1.plot(epoch_runs, train_loss, label=\"Training Loss\")\n",
        "ax1.plot(epoch_runs, val_loss, marker='o', label=\"Val Loss\")\n",
        "ax1.set(title='Training and Validation Loss', xlabel='Epochs', ylabel='Loss')\n",
        "ax1.legend()\n",
        "\n",
        "ax2.plot(epoch_runs, train_acc, label=\"Training Acc\")\n",
        "ax2.plot(epoch_runs, val_acc, marker='o', label=\"Val Acc\")\n",
        "ax2.set(title='Training and Validation Accuracy', xlabel='Epochs', ylabel='Acc', ylim=[0.6, 1])\n",
        "plt.show()"
      ],
      "metadata": {
        "colab": {
          "base_uri": "https://localhost:8080/",
          "height": 235
        },
        "id": "ykqADfJDrfat",
        "outputId": "02b587bd-a758-4172-ae1f-99aafb425a78"
      },
      "execution_count": null,
      "outputs": [
        {
          "output_type": "error",
          "ename": "NameError",
          "evalue": "ignored",
          "traceback": [
            "\u001b[0;31m---------------------------------------------------------------------------\u001b[0m",
            "\u001b[0;31mNameError\u001b[0m                                 Traceback (most recent call last)",
            "\u001b[0;32m<ipython-input-2-503fc46b1a8f>\u001b[0m in \u001b[0;36m<cell line: 1>\u001b[0;34m()\u001b[0m\n\u001b[0;32m----> 1\u001b[0;31m \u001b[0mhistory_LeNet\u001b[0m \u001b[0;34m=\u001b[0m \u001b[0mplot_LeNet\u001b[0m\u001b[0;34m.\u001b[0m\u001b[0mhistory\u001b[0m\u001b[0;34m\u001b[0m\u001b[0;34m\u001b[0m\u001b[0m\n\u001b[0m\u001b[1;32m      2\u001b[0m \u001b[0;34m\u001b[0m\u001b[0m\n\u001b[1;32m      3\u001b[0m \u001b[0;34m\u001b[0m\u001b[0m\n\u001b[1;32m      4\u001b[0m \u001b[0mtrain_loss\u001b[0m\u001b[0;34m,\u001b[0m \u001b[0mval_loss\u001b[0m \u001b[0;34m=\u001b[0m \u001b[0mhistory_LeNet\u001b[0m\u001b[0;34m[\u001b[0m\u001b[0;34m'loss'\u001b[0m\u001b[0;34m]\u001b[0m\u001b[0;34m,\u001b[0m \u001b[0mhistory_LeNet\u001b[0m\u001b[0;34m[\u001b[0m\u001b[0;34m'val_loss'\u001b[0m\u001b[0;34m]\u001b[0m\u001b[0;34m\u001b[0m\u001b[0;34m\u001b[0m\u001b[0m\n\u001b[1;32m      5\u001b[0m \u001b[0mtrain_acc\u001b[0m\u001b[0;34m,\u001b[0m \u001b[0mval_acc\u001b[0m \u001b[0;34m=\u001b[0m \u001b[0mhistory_LeNet\u001b[0m\u001b[0;34m[\u001b[0m\u001b[0;34m'accuracy'\u001b[0m\u001b[0;34m]\u001b[0m\u001b[0;34m,\u001b[0m \u001b[0mhistory_LeNet\u001b[0m\u001b[0;34m[\u001b[0m\u001b[0;34m'val_accuracy'\u001b[0m\u001b[0;34m]\u001b[0m\u001b[0;34m\u001b[0m\u001b[0;34m\u001b[0m\u001b[0m\n",
            "\u001b[0;31mNameError\u001b[0m: name 'plot_LeNet' is not defined"
          ]
        }
      ]
    },
    {
      "cell_type": "code",
      "source": [
        "LeNet_mnist = models.Sequential()\n",
        "\n",
        "\n",
        "LeNet_mnist.add(Conv2D(filters=6, kernel_size=(5,5), padding='same', activation='sigmoid', input_shape=input_shape))\n",
        "LeNet_mnist.add(MaxPool2D(strides=2))\n",
        "LeNet_mnist.add(Conv2D(filters=16, kernel_size=(5,5), padding='valid', activation='sigmoid'))\n",
        "LeNet_mnist.add(MaxPool2D(strides=2))\n",
        "LeNet_mnist.add(Flatten())\n",
        "LeNet_mnist.add(Dense(120, activation='sigmoid'))\n",
        "LeNet_mnist.add(Dense(84, activation='sigmoid'))\n",
        "LeNet_mnist.add(Dense(10, activation='softmax'))\n",
        "\n",
        "LeNet_mnist.build()\n",
        "adam = Adam(lr=5e-4)\n",
        "LeNet_mnist.compile(loss='categorical_crossentropy', metrics=['accuracy'], optimizer=adam)\n",
        "LeNet_mnist.summary()\n",
        "\n",
        "reduce_lr = ReduceLROnPlateau(monitor='val_accuracy', \n",
        "                                patience=3, \n",
        "                                verbose=1, \n",
        "                                factor=0.2, \n",
        "                                min_lr=1e-6)\n",
        "\n",
        "datagen = ImageDataGenerator(\n",
        "            rotation_range=10, \n",
        "            width_shift_range=0.1, \n",
        "            height_shift_range=0.1, \n",
        "            zoom_range=0.1)\n",
        "datagen.fit(x_train_fashion_mnist)\n",
        "\n",
        "plot_LeNet_mnist = LeNet_mnist.fit(datagen.flow(x_train_mnist, \n",
        "                                       y_train_mnist, \n",
        "                                       batch_size=100), \n",
        "                          steps_per_epoch=len(x_train_mnist)/100,\n",
        "                          epochs=50,\n",
        "                          validation_data = (x_val_mnist, y_val_mnist),\n",
        "                          callbacks=[reduce_lr])"
      ],
      "metadata": {
        "colab": {
          "base_uri": "https://localhost:8080/"
        },
        "id": "_nN6J8ostVXs",
        "outputId": "e8afd0f2-2ddb-4fbc-e352-92beeec7bc4d"
      },
      "execution_count": null,
      "outputs": [
        {
          "output_type": "stream",
          "name": "stdout",
          "text": [
            "Model: \"sequential_18\"\n",
            "_________________________________________________________________\n",
            " Layer (type)                Output Shape              Param #   \n",
            "=================================================================\n",
            " conv2d_36 (Conv2D)          (None, 28, 28, 6)         156       \n",
            "                                                                 \n",
            " max_pooling2d_30 (MaxPoolin  (None, 14, 14, 6)        0         \n",
            " g2D)                                                            \n",
            "                                                                 \n",
            " conv2d_37 (Conv2D)          (None, 10, 10, 16)        2416      \n",
            "                                                                 \n",
            " max_pooling2d_31 (MaxPoolin  (None, 5, 5, 16)         0         \n",
            " g2D)                                                            \n",
            "                                                                 \n",
            " flatten_18 (Flatten)        (None, 400)               0         \n",
            "                                                                 \n",
            " dense_44 (Dense)            (None, 120)               48120     \n",
            "                                                                 \n",
            " dense_45 (Dense)            (None, 84)                10164     \n",
            "                                                                 \n",
            " dense_46 (Dense)            (None, 10)                850       \n",
            "                                                                 \n",
            "=================================================================\n",
            "Total params: 61,706\n",
            "Trainable params: 61,706\n",
            "Non-trainable params: 0\n",
            "_________________________________________________________________\n"
          ]
        },
        {
          "output_type": "stream",
          "name": "stderr",
          "text": [
            "/usr/local/lib/python3.9/dist-packages/keras/optimizers/legacy/adam.py:117: UserWarning: The `lr` argument is deprecated, use `learning_rate` instead.\n",
            "  super().__init__(name, **kwargs)\n"
          ]
        },
        {
          "output_type": "stream",
          "name": "stdout",
          "text": [
            "Epoch 1/50\n",
            "540/540 [==============================] - 17s 31ms/step - loss: 1.8289 - accuracy: 0.3821 - val_loss: 0.8684 - val_accuracy: 0.7905 - lr: 5.0000e-04\n",
            "Epoch 2/50\n",
            "540/540 [==============================] - 17s 31ms/step - loss: 0.8065 - accuracy: 0.7621 - val_loss: 0.4044 - val_accuracy: 0.9115 - lr: 5.0000e-04\n",
            "Epoch 3/50\n",
            "540/540 [==============================] - 18s 34ms/step - loss: 0.4552 - accuracy: 0.8728 - val_loss: 0.2272 - val_accuracy: 0.9415 - lr: 5.0000e-04\n",
            "Epoch 4/50\n",
            "540/540 [==============================] - 17s 31ms/step - loss: 0.3076 - accuracy: 0.9119 - val_loss: 0.1702 - val_accuracy: 0.9532 - lr: 5.0000e-04\n",
            "Epoch 5/50\n",
            "540/540 [==============================] - 17s 32ms/step - loss: 0.2494 - accuracy: 0.9269 - val_loss: 0.1414 - val_accuracy: 0.9583 - lr: 5.0000e-04\n",
            "Epoch 6/50\n",
            "540/540 [==============================] - 16s 30ms/step - loss: 0.2128 - accuracy: 0.9356 - val_loss: 0.1203 - val_accuracy: 0.9642 - lr: 5.0000e-04\n",
            "Epoch 7/50\n",
            "540/540 [==============================] - 17s 32ms/step - loss: 0.1901 - accuracy: 0.9438 - val_loss: 0.1205 - val_accuracy: 0.9643 - lr: 5.0000e-04\n",
            "Epoch 8/50\n",
            "540/540 [==============================] - 16s 30ms/step - loss: 0.1715 - accuracy: 0.9476 - val_loss: 0.1152 - val_accuracy: 0.9668 - lr: 5.0000e-04\n",
            "Epoch 9/50\n",
            "540/540 [==============================] - 18s 33ms/step - loss: 0.1551 - accuracy: 0.9528 - val_loss: 0.1073 - val_accuracy: 0.9678 - lr: 5.0000e-04\n",
            "Epoch 10/50\n",
            "540/540 [==============================] - 17s 31ms/step - loss: 0.1435 - accuracy: 0.9559 - val_loss: 0.0945 - val_accuracy: 0.9712 - lr: 5.0000e-04\n",
            "Epoch 11/50\n",
            "540/540 [==============================] - 18s 33ms/step - loss: 0.1390 - accuracy: 0.9573 - val_loss: 0.0881 - val_accuracy: 0.9725 - lr: 5.0000e-04\n",
            "Epoch 12/50\n",
            "540/540 [==============================] - 17s 31ms/step - loss: 0.1274 - accuracy: 0.9609 - val_loss: 0.0828 - val_accuracy: 0.9742 - lr: 5.0000e-04\n",
            "Epoch 13/50\n",
            "540/540 [==============================] - 17s 32ms/step - loss: 0.1235 - accuracy: 0.9615 - val_loss: 0.0790 - val_accuracy: 0.9772 - lr: 5.0000e-04\n",
            "Epoch 14/50\n",
            "540/540 [==============================] - 17s 31ms/step - loss: 0.1152 - accuracy: 0.9634 - val_loss: 0.0745 - val_accuracy: 0.9768 - lr: 5.0000e-04\n",
            "Epoch 15/50\n",
            "540/540 [==============================] - 17s 31ms/step - loss: 0.1094 - accuracy: 0.9657 - val_loss: 0.0759 - val_accuracy: 0.9760 - lr: 5.0000e-04\n",
            "Epoch 16/50\n",
            "539/540 [============================>.] - ETA: 0s - loss: 0.1048 - accuracy: 0.9677\n",
            "Epoch 16: ReduceLROnPlateau reducing learning rate to 0.00010000000474974513.\n",
            "540/540 [==============================] - 16s 30ms/step - loss: 0.1047 - accuracy: 0.9678 - val_loss: 0.0796 - val_accuracy: 0.9753 - lr: 5.0000e-04\n",
            "Epoch 17/50\n",
            "540/540 [==============================] - 18s 32ms/step - loss: 0.0976 - accuracy: 0.9702 - val_loss: 0.0713 - val_accuracy: 0.9775 - lr: 1.0000e-04\n",
            "Epoch 18/50\n",
            "540/540 [==============================] - 18s 33ms/step - loss: 0.0919 - accuracy: 0.9716 - val_loss: 0.0747 - val_accuracy: 0.9753 - lr: 1.0000e-04\n",
            "Epoch 19/50\n",
            "540/540 [==============================] - 18s 33ms/step - loss: 0.0931 - accuracy: 0.9717 - val_loss: 0.0702 - val_accuracy: 0.9787 - lr: 1.0000e-04\n",
            "Epoch 20/50\n",
            "540/540 [==============================] - 18s 32ms/step - loss: 0.0937 - accuracy: 0.9706 - val_loss: 0.0705 - val_accuracy: 0.9770 - lr: 1.0000e-04\n",
            "Epoch 21/50\n",
            "540/540 [==============================] - 17s 31ms/step - loss: 0.0907 - accuracy: 0.9714 - val_loss: 0.0711 - val_accuracy: 0.9772 - lr: 1.0000e-04\n",
            "Epoch 22/50\n",
            "539/540 [============================>.] - ETA: 0s - loss: 0.0896 - accuracy: 0.9723\n",
            "Epoch 22: ReduceLROnPlateau reducing learning rate to 2.0000000949949027e-05.\n",
            "540/540 [==============================] - 17s 32ms/step - loss: 0.0897 - accuracy: 0.9722 - val_loss: 0.0697 - val_accuracy: 0.9785 - lr: 1.0000e-04\n",
            "Epoch 23/50\n",
            "540/540 [==============================] - 17s 31ms/step - loss: 0.0875 - accuracy: 0.9727 - val_loss: 0.0687 - val_accuracy: 0.9788 - lr: 2.0000e-05\n",
            "Epoch 24/50\n",
            "540/540 [==============================] - 16s 30ms/step - loss: 0.0876 - accuracy: 0.9726 - val_loss: 0.0679 - val_accuracy: 0.9788 - lr: 2.0000e-05\n",
            "Epoch 25/50\n",
            "540/540 [==============================] - 17s 31ms/step - loss: 0.0888 - accuracy: 0.9726 - val_loss: 0.0673 - val_accuracy: 0.9800 - lr: 2.0000e-05\n",
            "Epoch 26/50\n",
            "540/540 [==============================] - 18s 34ms/step - loss: 0.0882 - accuracy: 0.9728 - val_loss: 0.0675 - val_accuracy: 0.9795 - lr: 2.0000e-05\n",
            "Epoch 27/50\n",
            "540/540 [==============================] - 19s 36ms/step - loss: 0.0871 - accuracy: 0.9734 - val_loss: 0.0668 - val_accuracy: 0.9798 - lr: 2.0000e-05\n",
            "Epoch 28/50\n",
            "539/540 [============================>.] - ETA: 0s - loss: 0.0856 - accuracy: 0.9727\n",
            "Epoch 28: ReduceLROnPlateau reducing learning rate to 4.000000262749381e-06.\n",
            "540/540 [==============================] - 18s 33ms/step - loss: 0.0856 - accuracy: 0.9727 - val_loss: 0.0673 - val_accuracy: 0.9790 - lr: 2.0000e-05\n",
            "Epoch 29/50\n",
            "540/540 [==============================] - 19s 34ms/step - loss: 0.0862 - accuracy: 0.9732 - val_loss: 0.0675 - val_accuracy: 0.9788 - lr: 4.0000e-06\n",
            "Epoch 30/50\n",
            "540/540 [==============================] - 17s 32ms/step - loss: 0.0866 - accuracy: 0.9725 - val_loss: 0.0677 - val_accuracy: 0.9788 - lr: 4.0000e-06\n",
            "Epoch 31/50\n",
            "540/540 [==============================] - ETA: 0s - loss: 0.0860 - accuracy: 0.9735\n",
            "Epoch 31: ReduceLROnPlateau reducing learning rate to 1e-06.\n",
            "540/540 [==============================] - 18s 33ms/step - loss: 0.0860 - accuracy: 0.9735 - val_loss: 0.0680 - val_accuracy: 0.9782 - lr: 4.0000e-06\n",
            "Epoch 32/50\n",
            "540/540 [==============================] - 17s 32ms/step - loss: 0.0872 - accuracy: 0.9733 - val_loss: 0.0678 - val_accuracy: 0.9785 - lr: 1.0000e-06\n",
            "Epoch 33/50\n",
            "540/540 [==============================] - 17s 31ms/step - loss: 0.0867 - accuracy: 0.9731 - val_loss: 0.0678 - val_accuracy: 0.9787 - lr: 1.0000e-06\n",
            "Epoch 34/50\n",
            "540/540 [==============================] - 18s 33ms/step - loss: 0.0860 - accuracy: 0.9736 - val_loss: 0.0677 - val_accuracy: 0.9787 - lr: 1.0000e-06\n",
            "Epoch 35/50\n",
            "540/540 [==============================] - 18s 33ms/step - loss: 0.0872 - accuracy: 0.9727 - val_loss: 0.0675 - val_accuracy: 0.9788 - lr: 1.0000e-06\n",
            "Epoch 36/50\n",
            "540/540 [==============================] - 18s 33ms/step - loss: 0.0878 - accuracy: 0.9724 - val_loss: 0.0674 - val_accuracy: 0.9788 - lr: 1.0000e-06\n",
            "Epoch 37/50\n",
            "540/540 [==============================] - 17s 32ms/step - loss: 0.0865 - accuracy: 0.9727 - val_loss: 0.0673 - val_accuracy: 0.9788 - lr: 1.0000e-06\n",
            "Epoch 38/50\n",
            "540/540 [==============================] - 17s 32ms/step - loss: 0.0857 - accuracy: 0.9733 - val_loss: 0.0674 - val_accuracy: 0.9788 - lr: 1.0000e-06\n",
            "Epoch 39/50\n",
            "540/540 [==============================] - 19s 35ms/step - loss: 0.0861 - accuracy: 0.9722 - val_loss: 0.0675 - val_accuracy: 0.9788 - lr: 1.0000e-06\n",
            "Epoch 40/50\n",
            "540/540 [==============================] - 17s 32ms/step - loss: 0.0851 - accuracy: 0.9729 - val_loss: 0.0675 - val_accuracy: 0.9788 - lr: 1.0000e-06\n",
            "Epoch 41/50\n",
            "540/540 [==============================] - 18s 34ms/step - loss: 0.0872 - accuracy: 0.9727 - val_loss: 0.0673 - val_accuracy: 0.9788 - lr: 1.0000e-06\n",
            "Epoch 42/50\n",
            "540/540 [==============================] - 18s 32ms/step - loss: 0.0852 - accuracy: 0.9733 - val_loss: 0.0674 - val_accuracy: 0.9788 - lr: 1.0000e-06\n",
            "Epoch 43/50\n",
            "540/540 [==============================] - 18s 33ms/step - loss: 0.0870 - accuracy: 0.9726 - val_loss: 0.0675 - val_accuracy: 0.9788 - lr: 1.0000e-06\n",
            "Epoch 44/50\n",
            "540/540 [==============================] - 19s 36ms/step - loss: 0.0881 - accuracy: 0.9729 - val_loss: 0.0675 - val_accuracy: 0.9788 - lr: 1.0000e-06\n",
            "Epoch 45/50\n",
            "540/540 [==============================] - 18s 32ms/step - loss: 0.0889 - accuracy: 0.9721 - val_loss: 0.0674 - val_accuracy: 0.9787 - lr: 1.0000e-06\n",
            "Epoch 46/50\n",
            "540/540 [==============================] - 18s 34ms/step - loss: 0.0856 - accuracy: 0.9736 - val_loss: 0.0674 - val_accuracy: 0.9787 - lr: 1.0000e-06\n",
            "Epoch 47/50\n",
            "540/540 [==============================] - 17s 32ms/step - loss: 0.0881 - accuracy: 0.9730 - val_loss: 0.0673 - val_accuracy: 0.9788 - lr: 1.0000e-06\n",
            "Epoch 48/50\n",
            "540/540 [==============================] - 19s 35ms/step - loss: 0.0865 - accuracy: 0.9729 - val_loss: 0.0674 - val_accuracy: 0.9787 - lr: 1.0000e-06\n",
            "Epoch 49/50\n",
            "540/540 [==============================] - 18s 33ms/step - loss: 0.0882 - accuracy: 0.9731 - val_loss: 0.0674 - val_accuracy: 0.9788 - lr: 1.0000e-06\n",
            "Epoch 50/50\n",
            "540/540 [==============================] - 20s 37ms/step - loss: 0.0855 - accuracy: 0.9734 - val_loss: 0.0673 - val_accuracy: 0.9788 - lr: 1.0000e-06\n"
          ]
        }
      ]
    },
    {
      "cell_type": "code",
      "source": [
        "LeNet_mnist.evaluate(x_test_mnist, y_test_mnist, batch_size = 32)"
      ],
      "metadata": {
        "id": "6r_UNb0AuNGg"
      },
      "execution_count": null,
      "outputs": []
    },
    {
      "cell_type": "code",
      "source": [
        "history_LeNet_mnist = plot_LeNet_mnist.history\n",
        "   \n",
        "\n",
        "train_loss, val_loss = history_LeNet_mnist['loss'], history_LeNet_mnist['val_loss']\n",
        "train_acc, val_acc = history_LeNet_mnist['accuracy'], history_LeNet_mnist['val_accuracy']\n",
        "     \n",
        "\n",
        "fig, (ax1, ax2) = plt.subplots(1,2, figsize=(15,5))\n",
        "epoch_runs = [i+1 for i in range(50)]\n",
        "ax1.plot(epoch_runs, train_loss, label=\"Training Loss\")\n",
        "ax1.plot(epoch_runs, val_loss, marker='o', label=\"Val Loss\")\n",
        "ax1.set(title='Training and Validation Loss', xlabel='Epochs', ylabel='Loss')\n",
        "ax1.legend()\n",
        "\n",
        "ax2.plot(epoch_runs, train_acc, label=\"Training Acc\")\n",
        "ax2.plot(epoch_runs, val_acc, marker='o', label=\"Val Acc\")\n",
        "ax2.set(title='Training and Validation Accuracy', xlabel='Epochs', ylabel='Acc', ylim=[0.6, 1])\n",
        "plt.show()"
      ],
      "metadata": {
        "id": "cY-sIh4NuW1a"
      },
      "execution_count": null,
      "outputs": []
    },
    {
      "cell_type": "code",
      "source": [
        "LeNet_model = models.Sequential()\n",
        "\n",
        "\n",
        "LeNet_model.add(Conv2D(filters=32, kernel_size=(5,5), padding='same', activation='relu', input_shape=input_shape))\n",
        "LeNet_model.add(MaxPool2D(strides=2))\n",
        "LeNet_model.add(Conv2D(filters=48, kernel_size=(5,5), padding='valid', activation='relu'))\n",
        "LeNet_model.add(MaxPool2D(strides=2))\n",
        "LeNet_model.add(Flatten())\n",
        "LeNet_model.add(Dense(256, activation='relu'))\n",
        "LeNet_model.add(Dense(84, activation='relu'))\n",
        "LeNet_model.add(Dense(10, activation='softmax'))\n",
        "\n",
        "LeNet_model.build()\n",
        "adam = Adam(lr=5e-4)\n",
        "LeNet_model.compile(loss='categorical_crossentropy', metrics=['accuracy'], optimizer=adam)\n",
        "LeNet_model.summary()\n",
        "\n",
        "reduce_lr = ReduceLROnPlateau(monitor='val_accuracy', \n",
        "                                patience=3, \n",
        "                                verbose=1, \n",
        "                                factor=0.2, \n",
        "                                min_lr=1e-6)\n",
        "\n",
        "datagen = ImageDataGenerator(\n",
        "            rotation_range=10, \n",
        "            width_shift_range=0.1, \n",
        "            height_shift_range=0.1, \n",
        "            zoom_range=0.1)\n",
        "datagen.fit(x_train_fashion_mnist)\n",
        "\n",
        "plot2 = LeNet_model.fit(datagen.flow(x_train_fashion_mnist, \n",
        "                                       y_train_fashion_mnist, \n",
        "                                       batch_size=100), \n",
        "                          steps_per_epoch=len(x_train_fashion_mnist)/100,\n",
        "                          epochs=30, \n",
        "                          validation_data = (x_val_fashion_mnist, y_val_fashion_mnist),\n",
        "                          callbacks=[reduce_lr])"
      ],
      "metadata": {
        "id": "0_yhWV-La1jq",
        "colab": {
          "base_uri": "https://localhost:8080/"
        },
        "outputId": "bb62bc23-cd5c-42a8-82c0-02bc05504bdf"
      },
      "execution_count": null,
      "outputs": [
        {
          "output_type": "stream",
          "name": "stdout",
          "text": [
            "Model: \"sequential_11\"\n",
            "_________________________________________________________________\n",
            " Layer (type)                Output Shape              Param #   \n",
            "=================================================================\n",
            " conv2d_22 (Conv2D)          (None, 28, 28, 32)        832       \n",
            "                                                                 \n",
            " max_pooling2d_18 (MaxPoolin  (None, 14, 14, 32)       0         \n",
            " g2D)                                                            \n",
            "                                                                 \n",
            " conv2d_23 (Conv2D)          (None, 10, 10, 48)        38448     \n",
            "                                                                 \n",
            " max_pooling2d_19 (MaxPoolin  (None, 5, 5, 48)         0         \n",
            " g2D)                                                            \n",
            "                                                                 \n",
            " flatten_11 (Flatten)        (None, 1200)              0         \n",
            "                                                                 \n",
            " dense_25 (Dense)            (None, 256)               307456    \n",
            "                                                                 \n",
            " dense_26 (Dense)            (None, 84)                21588     \n",
            "                                                                 \n",
            " dense_27 (Dense)            (None, 10)                850       \n",
            "                                                                 \n",
            "=================================================================\n",
            "Total params: 369,174\n",
            "Trainable params: 369,174\n",
            "Non-trainable params: 0\n",
            "_________________________________________________________________\n"
          ]
        },
        {
          "output_type": "stream",
          "name": "stderr",
          "text": [
            "/usr/local/lib/python3.9/dist-packages/keras/optimizers/legacy/adam.py:117: UserWarning: The `lr` argument is deprecated, use `learning_rate` instead.\n",
            "  super().__init__(name, **kwargs)\n"
          ]
        },
        {
          "output_type": "stream",
          "name": "stdout",
          "text": [
            "Epoch 1/30\n",
            "540/540 [==============================] - 22s 39ms/step - loss: 0.9129 - accuracy: 0.7281 - val_loss: 0.5146 - val_accuracy: 0.8040 - lr: 5.0000e-04\n",
            "Epoch 2/30\n",
            "540/540 [==============================] - 20s 36ms/step - loss: 0.5220 - accuracy: 0.8044 - val_loss: 0.3982 - val_accuracy: 0.8570 - lr: 5.0000e-04\n",
            "Epoch 3/30\n",
            "540/540 [==============================] - 17s 31ms/step - loss: 0.4600 - accuracy: 0.8276 - val_loss: 0.4066 - val_accuracy: 0.8657 - lr: 5.0000e-04\n",
            "Epoch 4/30\n",
            "540/540 [==============================] - 18s 33ms/step - loss: 0.4291 - accuracy: 0.8374 - val_loss: 0.3597 - val_accuracy: 0.8705 - lr: 5.0000e-04\n",
            "Epoch 5/30\n",
            "540/540 [==============================] - 19s 36ms/step - loss: 0.4096 - accuracy: 0.8474 - val_loss: 0.3551 - val_accuracy: 0.8795 - lr: 5.0000e-04\n",
            "Epoch 6/30\n",
            "540/540 [==============================] - 19s 36ms/step - loss: 0.3894 - accuracy: 0.8551 - val_loss: 0.3222 - val_accuracy: 0.8818 - lr: 5.0000e-04\n",
            "Epoch 7/30\n",
            "540/540 [==============================] - 18s 33ms/step - loss: 0.3726 - accuracy: 0.8614 - val_loss: 0.3146 - val_accuracy: 0.8877 - lr: 5.0000e-04\n",
            "Epoch 8/30\n",
            "540/540 [==============================] - 17s 31ms/step - loss: 0.3570 - accuracy: 0.8664 - val_loss: 0.3076 - val_accuracy: 0.8917 - lr: 5.0000e-04\n",
            "Epoch 9/30\n",
            "540/540 [==============================] - 18s 33ms/step - loss: 0.3508 - accuracy: 0.8685 - val_loss: 0.3198 - val_accuracy: 0.8888 - lr: 5.0000e-04\n",
            "Epoch 10/30\n",
            "540/540 [==============================] - 17s 31ms/step - loss: 0.3454 - accuracy: 0.8706 - val_loss: 0.3166 - val_accuracy: 0.8885 - lr: 5.0000e-04\n",
            "Epoch 11/30\n",
            "540/540 [==============================] - 18s 33ms/step - loss: 0.3317 - accuracy: 0.8764 - val_loss: 0.3193 - val_accuracy: 0.8930 - lr: 5.0000e-04\n",
            "Epoch 12/30\n",
            "540/540 [==============================] - 17s 31ms/step - loss: 0.3269 - accuracy: 0.8776 - val_loss: 0.3047 - val_accuracy: 0.8978 - lr: 5.0000e-04\n",
            "Epoch 13/30\n",
            "540/540 [==============================] - 17s 31ms/step - loss: 0.3174 - accuracy: 0.8814 - val_loss: 0.2920 - val_accuracy: 0.8993 - lr: 5.0000e-04\n",
            "Epoch 14/30\n",
            "540/540 [==============================] - 17s 31ms/step - loss: 0.3129 - accuracy: 0.8825 - val_loss: 0.2619 - val_accuracy: 0.9062 - lr: 5.0000e-04\n",
            "Epoch 15/30\n",
            "540/540 [==============================] - 17s 31ms/step - loss: 0.3055 - accuracy: 0.8837 - val_loss: 0.3042 - val_accuracy: 0.8983 - lr: 5.0000e-04\n",
            "Epoch 16/30\n",
            "540/540 [==============================] - 18s 33ms/step - loss: 0.3046 - accuracy: 0.8866 - val_loss: 0.2810 - val_accuracy: 0.9032 - lr: 5.0000e-04\n",
            "Epoch 17/30\n",
            "539/540 [============================>.] - ETA: 0s - loss: 0.2961 - accuracy: 0.8885\n",
            "Epoch 17: ReduceLROnPlateau reducing learning rate to 0.00010000000474974513.\n",
            "540/540 [==============================] - 17s 31ms/step - loss: 0.2963 - accuracy: 0.8885 - val_loss: 0.2768 - val_accuracy: 0.8998 - lr: 5.0000e-04\n",
            "Epoch 18/30\n",
            "540/540 [==============================] - 17s 32ms/step - loss: 0.2636 - accuracy: 0.9014 - val_loss: 0.2688 - val_accuracy: 0.9058 - lr: 1.0000e-04\n",
            "Epoch 19/30\n",
            "540/540 [==============================] - 17s 31ms/step - loss: 0.2528 - accuracy: 0.9051 - val_loss: 0.2650 - val_accuracy: 0.9057 - lr: 1.0000e-04\n",
            "Epoch 20/30\n",
            "540/540 [==============================] - 18s 33ms/step - loss: 0.2488 - accuracy: 0.9065 - val_loss: 0.2637 - val_accuracy: 0.9090 - lr: 1.0000e-04\n",
            "Epoch 21/30\n",
            "540/540 [==============================] - 17s 31ms/step - loss: 0.2456 - accuracy: 0.9084 - val_loss: 0.2588 - val_accuracy: 0.9103 - lr: 1.0000e-04\n",
            "Epoch 22/30\n",
            "540/540 [==============================] - 17s 31ms/step - loss: 0.2452 - accuracy: 0.9077 - val_loss: 0.2628 - val_accuracy: 0.9112 - lr: 1.0000e-04\n",
            "Epoch 23/30\n",
            "540/540 [==============================] - 17s 31ms/step - loss: 0.2413 - accuracy: 0.9093 - val_loss: 0.2600 - val_accuracy: 0.9105 - lr: 1.0000e-04\n",
            "Epoch 24/30\n",
            "540/540 [==============================] - 17s 31ms/step - loss: 0.2371 - accuracy: 0.9113 - val_loss: 0.2565 - val_accuracy: 0.9102 - lr: 1.0000e-04\n",
            "Epoch 25/30\n",
            "540/540 [==============================] - 17s 32ms/step - loss: 0.2331 - accuracy: 0.9109 - val_loss: 0.2579 - val_accuracy: 0.9123 - lr: 1.0000e-04\n",
            "Epoch 26/30\n",
            "540/540 [==============================] - 17s 31ms/step - loss: 0.2342 - accuracy: 0.9112 - val_loss: 0.2549 - val_accuracy: 0.9117 - lr: 1.0000e-04\n",
            "Epoch 27/30\n",
            "540/540 [==============================] - 17s 32ms/step - loss: 0.2337 - accuracy: 0.9113 - val_loss: 0.2434 - val_accuracy: 0.9150 - lr: 1.0000e-04\n",
            "Epoch 28/30\n",
            "540/540 [==============================] - 17s 31ms/step - loss: 0.2284 - accuracy: 0.9138 - val_loss: 0.2531 - val_accuracy: 0.9142 - lr: 1.0000e-04\n",
            "Epoch 29/30\n",
            "540/540 [==============================] - 18s 33ms/step - loss: 0.2287 - accuracy: 0.9137 - val_loss: 0.2545 - val_accuracy: 0.9125 - lr: 1.0000e-04\n",
            "Epoch 30/30\n",
            "539/540 [============================>.] - ETA: 0s - loss: 0.2278 - accuracy: 0.9134\n",
            "Epoch 30: ReduceLROnPlateau reducing learning rate to 2.0000000949949027e-05.\n",
            "540/540 [==============================] - 17s 31ms/step - loss: 0.2279 - accuracy: 0.9133 - val_loss: 0.2525 - val_accuracy: 0.9133 - lr: 1.0000e-04\n"
          ]
        }
      ]
    },
    {
      "cell_type": "code",
      "source": [
        "score2 = LeNet_model.evaluate(x_test_fashion_mnist, y_test_fashion_mnist,batch_size = 32)"
      ],
      "metadata": {
        "colab": {
          "base_uri": "https://localhost:8080/"
        },
        "id": "FSvIkD_hLISl",
        "outputId": "3c711f13-a2f0-433e-ec81-8e60363506ab"
      },
      "execution_count": null,
      "outputs": [
        {
          "output_type": "stream",
          "name": "stdout",
          "text": [
            "313/313 [==============================] - 1s 3ms/step - loss: 0.2531 - accuracy: 0.9119\n"
          ]
        }
      ]
    },
    {
      "cell_type": "code",
      "source": [
        "history_fashion_dict = plot2.history\n",
        "     \n",
        "\n",
        "train_loss, val_loss = history_fashion_dict['loss'], history_fashion_dict['val_loss']\n",
        "train_acc, val_acc = history_fashion_dict['accuracy'], history_fashion_dict['val_accuracy']\n",
        "     \n",
        "\n",
        "fig, (ax1, ax2) = plt.subplots(1,2, figsize=(15,5))\n",
        "epoch_runs = [i+1 for i in range(30)]\n",
        "ax1.plot(epoch_runs, train_loss, label=\"Training Loss\")\n",
        "ax1.plot(epoch_runs, val_loss, marker='o', label=\"Val Loss\")\n",
        "ax1.set(title='Training and Validation Loss', xlabel='Epochs', ylabel='Loss')\n",
        "ax1.legend()\n",
        "\n",
        "ax2.plot(epoch_runs, train_acc, label=\"Training Acc\")\n",
        "ax2.plot(epoch_runs, val_acc, marker='o', label=\"Val Acc\")\n",
        "ax2.set(title='Training and Validation Accuracy', xlabel='Epochs', ylabel='Acc', ylim=[0.6, 1])\n",
        "plt.show()"
      ],
      "metadata": {
        "colab": {
          "base_uri": "https://localhost:8080/",
          "height": 372
        },
        "id": "mdc3R94PfoqQ",
        "outputId": "4a1adb0f-6d79-4f1e-b178-a26d55145229"
      },
      "execution_count": null,
      "outputs": [
        {
          "output_type": "display_data",
          "data": {
            "text/plain": [
              "<Figure size 1500x500 with 2 Axes>"
            ],
            "image/png": "[encoded data removed]"
          },
          "metadata": {}
        }
      ]
    },
    {
      "cell_type": "code",
      "source": [
        "LeNet_model2 = models.Sequential()\n",
        "\n",
        "\n",
        "LeNet_model2.add(Conv2D(filters=32, kernel_size=(5,5), padding='same', activation='relu', input_shape=input_shape))\n",
        "LeNet_model2.add(MaxPool2D(strides=2))\n",
        "LeNet_model2.add(Conv2D(filters=48, kernel_size=(5,5), padding='valid', activation='relu'))\n",
        "LeNet_model2.add(MaxPool2D(strides=2))\n",
        "LeNet_model2.add(Flatten())\n",
        "LeNet_model2.add(Dense(256, activation='relu'))\n",
        "LeNet_model2.add(Dense(84, activation='relu'))\n",
        "LeNet_model2.add(Dense(10, activation='softmax'))\n",
        "\n",
        "LeNet_model2.build()\n",
        "LeNet_model2.compile(loss='categorical_crossentropy', metrics=['accuracy'], optimizer=adam)\n",
        "LeNet_model2.summary()\n",
        "\n",
        "datagen2 = ImageDataGenerator(\n",
        "            rotation_range=10,\n",
        "            width_shift_range=0.1,\n",
        "            height_shift_range=0.1,\n",
        "            zoom_range=0.1)\n",
        "datagen2.fit(x_train_mnist)"
      ],
      "metadata": {
        "colab": {
          "base_uri": "https://localhost:8080/"
        },
        "id": "L4jy-lihQaqP",
        "outputId": "21c02f33-df71-4c25-b749-6c0fc91a09c3"
      },
      "execution_count": null,
      "outputs": [
        {
          "output_type": "stream",
          "name": "stdout",
          "text": [
            "Model: \"sequential_12\"\n",
            "_________________________________________________________________\n",
            " Layer (type)                Output Shape              Param #   \n",
            "=================================================================\n",
            " conv2d_24 (Conv2D)          (None, 28, 28, 32)        832       \n",
            "                                                                 \n",
            " max_pooling2d_20 (MaxPoolin  (None, 14, 14, 32)       0         \n",
            " g2D)                                                            \n",
            "                                                                 \n",
            " conv2d_25 (Conv2D)          (None, 10, 10, 48)        38448     \n",
            "                                                                 \n",
            " max_pooling2d_21 (MaxPoolin  (None, 5, 5, 48)         0         \n",
            " g2D)                                                            \n",
            "                                                                 \n",
            " flatten_12 (Flatten)        (None, 1200)              0         \n",
            "                                                                 \n",
            " dense_28 (Dense)            (None, 256)               307456    \n",
            "                                                                 \n",
            " dense_29 (Dense)            (None, 84)                21588     \n",
            "                                                                 \n",
            " dense_30 (Dense)            (None, 10)                850       \n",
            "                                                                 \n",
            "=================================================================\n",
            "Total params: 369,174\n",
            "Trainable params: 369,174\n",
            "Non-trainable params: 0\n",
            "_________________________________________________________________\n"
          ]
        }
      ]
    },
    {
      "cell_type": "code",
      "source": [
        "history_mnist = LeNet_model2.fit(datagen.flow(x_train_mnist,\n",
        "                                       y_train_mnist,\n",
        "                                       batch_size=100),\n",
        "                          steps_per_epoch=len(x_train_mnist)/100,\n",
        "                          epochs=50,\n",
        "                          validation_data = (x_val_mnist, y_val_mnist),\n",
        "                          callbacks=[reduce_lr])"
      ],
      "metadata": {
        "colab": {
          "base_uri": "https://localhost:8080/"
        },
        "id": "bxQAXjqYYbnU",
        "outputId": "4d0fab72-9821-438c-a5c5-a3e296dfeacb"
      },
      "execution_count": null,
      "outputs": [
        {
          "output_type": "stream",
          "name": "stdout",
          "text": [
            "Epoch 1/50\n",
            "540/540 [==============================] - 21s 39ms/step - loss: 1.5454 - accuracy: 0.7155 - val_loss: 0.3592 - val_accuracy: 0.8928 - lr: 2.0000e-05\n",
            "Epoch 2/50\n",
            "540/540 [==============================] - 18s 33ms/step - loss: 0.4445 - accuracy: 0.8686 - val_loss: 0.2530 - val_accuracy: 0.9250 - lr: 2.0000e-05\n",
            "Epoch 3/50\n",
            "540/540 [==============================] - 17s 32ms/step - loss: 0.3348 - accuracy: 0.9003 - val_loss: 0.1957 - val_accuracy: 0.9400 - lr: 2.0000e-05\n",
            "Epoch 4/50\n",
            "540/540 [==============================] - 17s 31ms/step - loss: 0.2673 - accuracy: 0.9200 - val_loss: 0.1707 - val_accuracy: 0.9502 - lr: 2.0000e-05\n",
            "Epoch 5/50\n",
            "540/540 [==============================] - 17s 31ms/step - loss: 0.2217 - accuracy: 0.9333 - val_loss: 0.1484 - val_accuracy: 0.9558 - lr: 2.0000e-05\n",
            "Epoch 6/50\n",
            "540/540 [==============================] - 17s 31ms/step - loss: 0.1979 - accuracy: 0.9412 - val_loss: 0.1333 - val_accuracy: 0.9597 - lr: 2.0000e-05\n",
            "Epoch 7/50\n",
            "540/540 [==============================] - 17s 32ms/step - loss: 0.1763 - accuracy: 0.9468 - val_loss: 0.1236 - val_accuracy: 0.9642 - lr: 2.0000e-05\n",
            "Epoch 8/50\n",
            "540/540 [==============================] - 18s 33ms/step - loss: 0.1567 - accuracy: 0.9523 - val_loss: 0.1234 - val_accuracy: 0.9628 - lr: 2.0000e-05\n",
            "Epoch 9/50\n",
            "540/540 [==============================] - 17s 31ms/step - loss: 0.1454 - accuracy: 0.9565 - val_loss: 0.1098 - val_accuracy: 0.9683 - lr: 2.0000e-05\n",
            "Epoch 10/50\n",
            "540/540 [==============================] - 18s 33ms/step - loss: 0.1350 - accuracy: 0.9594 - val_loss: 0.0986 - val_accuracy: 0.9708 - lr: 2.0000e-05\n",
            "Epoch 11/50\n",
            "540/540 [==============================] - 18s 33ms/step - loss: 0.1213 - accuracy: 0.9629 - val_loss: 0.0971 - val_accuracy: 0.9722 - lr: 2.0000e-05\n",
            "Epoch 12/50\n",
            "540/540 [==============================] - 17s 31ms/step - loss: 0.1164 - accuracy: 0.9663 - val_loss: 0.0958 - val_accuracy: 0.9728 - lr: 2.0000e-05\n",
            "Epoch 13/50\n",
            "540/540 [==============================] - 17s 32ms/step - loss: 0.1123 - accuracy: 0.9661 - val_loss: 0.1016 - val_accuracy: 0.9723 - lr: 2.0000e-05\n",
            "Epoch 14/50\n",
            "540/540 [==============================] - 18s 33ms/step - loss: 0.1038 - accuracy: 0.9686 - val_loss: 0.0795 - val_accuracy: 0.9777 - lr: 2.0000e-05\n",
            "Epoch 15/50\n",
            "540/540 [==============================] - 17s 31ms/step - loss: 0.0962 - accuracy: 0.9710 - val_loss: 0.0807 - val_accuracy: 0.9777 - lr: 2.0000e-05\n",
            "Epoch 16/50\n",
            "540/540 [==============================] - 17s 31ms/step - loss: 0.0958 - accuracy: 0.9716 - val_loss: 0.0847 - val_accuracy: 0.9762 - lr: 2.0000e-05\n",
            "Epoch 17/50\n",
            "540/540 [==============================] - 17s 31ms/step - loss: 0.0872 - accuracy: 0.9734 - val_loss: 0.0772 - val_accuracy: 0.9787 - lr: 2.0000e-05\n",
            "Epoch 18/50\n",
            "540/540 [==============================] - 18s 32ms/step - loss: 0.0843 - accuracy: 0.9742 - val_loss: 0.0729 - val_accuracy: 0.9812 - lr: 2.0000e-05\n",
            "Epoch 19/50\n",
            "540/540 [==============================] - 17s 31ms/step - loss: 0.0810 - accuracy: 0.9756 - val_loss: 0.0750 - val_accuracy: 0.9803 - lr: 2.0000e-05\n",
            "Epoch 20/50\n",
            "540/540 [==============================] - 17s 31ms/step - loss: 0.0773 - accuracy: 0.9762 - val_loss: 0.0660 - val_accuracy: 0.9830 - lr: 2.0000e-05\n",
            "Epoch 21/50\n",
            "540/540 [==============================] - 17s 31ms/step - loss: 0.0723 - accuracy: 0.9776 - val_loss: 0.0694 - val_accuracy: 0.9805 - lr: 2.0000e-05\n",
            "Epoch 22/50\n",
            "540/540 [==============================] - 18s 33ms/step - loss: 0.0676 - accuracy: 0.9788 - val_loss: 0.0665 - val_accuracy: 0.9810 - lr: 2.0000e-05\n",
            "Epoch 23/50\n",
            "540/540 [==============================] - 17s 31ms/step - loss: 0.0702 - accuracy: 0.9786 - val_loss: 0.0630 - val_accuracy: 0.9843 - lr: 2.0000e-05\n",
            "Epoch 24/50\n",
            "540/540 [==============================] - 18s 33ms/step - loss: 0.0662 - accuracy: 0.9791 - val_loss: 0.0711 - val_accuracy: 0.9823 - lr: 2.0000e-05\n",
            "Epoch 25/50\n",
            "540/540 [==============================] - 17s 32ms/step - loss: 0.0643 - accuracy: 0.9807 - val_loss: 0.0696 - val_accuracy: 0.9843 - lr: 2.0000e-05\n",
            "Epoch 26/50\n",
            "540/540 [==============================] - ETA: 0s - loss: 0.0599 - accuracy: 0.9809\n",
            "Epoch 26: ReduceLROnPlateau reducing learning rate to 4.000000262749381e-06.\n",
            "540/540 [==============================] - 18s 33ms/step - loss: 0.0599 - accuracy: 0.9809 - val_loss: 0.0676 - val_accuracy: 0.9827 - lr: 2.0000e-05\n",
            "Epoch 27/50\n",
            "540/540 [==============================] - 17s 31ms/step - loss: 0.0575 - accuracy: 0.9826 - val_loss: 0.0664 - val_accuracy: 0.9840 - lr: 4.0000e-06\n",
            "Epoch 28/50\n",
            "540/540 [==============================] - 17s 32ms/step - loss: 0.0557 - accuracy: 0.9826 - val_loss: 0.0614 - val_accuracy: 0.9848 - lr: 4.0000e-06\n",
            "Epoch 29/50\n",
            "540/540 [==============================] - 17s 31ms/step - loss: 0.0550 - accuracy: 0.9831 - val_loss: 0.0631 - val_accuracy: 0.9840 - lr: 4.0000e-06\n",
            "Epoch 30/50\n",
            "540/540 [==============================] - 17s 31ms/step - loss: 0.0532 - accuracy: 0.9829 - val_loss: 0.0618 - val_accuracy: 0.9853 - lr: 4.0000e-06\n",
            "Epoch 31/50\n",
            "540/540 [==============================] - 18s 33ms/step - loss: 0.0548 - accuracy: 0.9831 - val_loss: 0.0610 - val_accuracy: 0.9852 - lr: 4.0000e-06\n",
            "Epoch 32/50\n",
            "540/540 [==============================] - 17s 31ms/step - loss: 0.0540 - accuracy: 0.9828 - val_loss: 0.0593 - val_accuracy: 0.9860 - lr: 4.0000e-06\n",
            "Epoch 33/50\n",
            "540/540 [==============================] - 18s 32ms/step - loss: 0.0551 - accuracy: 0.9826 - val_loss: 0.0656 - val_accuracy: 0.9840 - lr: 4.0000e-06\n",
            "Epoch 34/50\n",
            "540/540 [==============================] - 17s 31ms/step - loss: 0.0523 - accuracy: 0.9835 - val_loss: 0.0612 - val_accuracy: 0.9853 - lr: 4.0000e-06\n",
            "Epoch 35/50\n",
            "539/540 [============================>.] - ETA: 0s - loss: 0.0529 - accuracy: 0.9832\n",
            "Epoch 35: ReduceLROnPlateau reducing learning rate to 1e-06.\n",
            "540/540 [==============================] - 18s 32ms/step - loss: 0.0530 - accuracy: 0.9831 - val_loss: 0.0596 - val_accuracy: 0.9857 - lr: 4.0000e-06\n",
            "Epoch 36/50\n",
            "540/540 [==============================] - 17s 31ms/step - loss: 0.0506 - accuracy: 0.9839 - val_loss: 0.0593 - val_accuracy: 0.9858 - lr: 1.0000e-06\n",
            "Epoch 37/50\n",
            "540/540 [==============================] - 17s 31ms/step - loss: 0.0502 - accuracy: 0.9844 - val_loss: 0.0591 - val_accuracy: 0.9857 - lr: 1.0000e-06\n",
            "Epoch 38/50\n",
            "540/540 [==============================] - 18s 33ms/step - loss: 0.0506 - accuracy: 0.9847 - val_loss: 0.0587 - val_accuracy: 0.9862 - lr: 1.0000e-06\n",
            "Epoch 39/50\n",
            "540/540 [==============================] - 17s 31ms/step - loss: 0.0498 - accuracy: 0.9841 - val_loss: 0.0609 - val_accuracy: 0.9853 - lr: 1.0000e-06\n",
            "Epoch 40/50\n",
            "540/540 [==============================] - 17s 31ms/step - loss: 0.0499 - accuracy: 0.9843 - val_loss: 0.0609 - val_accuracy: 0.9853 - lr: 1.0000e-06\n",
            "Epoch 41/50\n",
            "540/540 [==============================] - 18s 33ms/step - loss: 0.0508 - accuracy: 0.9840 - val_loss: 0.0597 - val_accuracy: 0.9857 - lr: 1.0000e-06\n",
            "Epoch 42/50\n",
            "540/540 [==============================] - 17s 31ms/step - loss: 0.0481 - accuracy: 0.9849 - val_loss: 0.0594 - val_accuracy: 0.9858 - lr: 1.0000e-06\n",
            "Epoch 43/50\n",
            "540/540 [==============================] - 18s 33ms/step - loss: 0.0512 - accuracy: 0.9845 - val_loss: 0.0587 - val_accuracy: 0.9862 - lr: 1.0000e-06\n",
            "Epoch 44/50\n",
            "540/540 [==============================] - 17s 31ms/step - loss: 0.0498 - accuracy: 0.9843 - val_loss: 0.0600 - val_accuracy: 0.9857 - lr: 1.0000e-06\n",
            "Epoch 45/50\n",
            "540/540 [==============================] - 17s 32ms/step - loss: 0.0506 - accuracy: 0.9837 - val_loss: 0.0602 - val_accuracy: 0.9857 - lr: 1.0000e-06\n",
            "Epoch 46/50\n",
            "540/540 [==============================] - 17s 31ms/step - loss: 0.0511 - accuracy: 0.9841 - val_loss: 0.0601 - val_accuracy: 0.9860 - lr: 1.0000e-06\n",
            "Epoch 47/50\n",
            "540/540 [==============================] - 17s 31ms/step - loss: 0.0491 - accuracy: 0.9845 - val_loss: 0.0603 - val_accuracy: 0.9857 - lr: 1.0000e-06\n",
            "Epoch 48/50\n",
            "540/540 [==============================] - 18s 33ms/step - loss: 0.0483 - accuracy: 0.9841 - val_loss: 0.0608 - val_accuracy: 0.9852 - lr: 1.0000e-06\n",
            "Epoch 49/50\n",
            "540/540 [==============================] - 17s 31ms/step - loss: 0.0482 - accuracy: 0.9850 - val_loss: 0.0605 - val_accuracy: 0.9858 - lr: 1.0000e-06\n",
            "Epoch 50/50\n",
            "540/540 [==============================] - 17s 32ms/step - loss: 0.0499 - accuracy: 0.9845 - val_loss: 0.0595 - val_accuracy: 0.9855 - lr: 1.0000e-06\n"
          ]
        }
      ]
    },
    {
      "cell_type": "code",
      "source": [
        "LeNet_model2.evaluate(x_test_mnist, y_test_mnist, batch_size = 32)"
      ],
      "metadata": {
        "colab": {
          "base_uri": "https://localhost:8080/"
        },
        "id": "TCiU-BaASedi",
        "outputId": "4cd8506e-b563-4698-8bf3-adabdebb708d"
      },
      "execution_count": null,
      "outputs": [
        {
          "output_type": "stream",
          "name": "stdout",
          "text": [
            "313/313 [==============================] - 1s 3ms/step - loss: 0.0384 - accuracy: 0.9878\n"
          ]
        },
        {
          "output_type": "execute_result",
          "data": {
            "text/plain": [
              "[0.03842460736632347, 0.9878000020980835]"
            ]
          },
          "metadata": {},
          "execution_count": 81
        }
      ]
    },
    {
      "cell_type": "code",
      "source": [
        "history_mnist_dict = history_mnist.history\n",
        "     \n",
        "\n",
        "train_loss, val_loss = history_mnist_dict['loss'], history_mnist_dict['val_loss']\n",
        "train_acc, val_acc = history_mnist_dict['accuracy'], history_mnist_dict['val_accuracy']\n",
        "     \n",
        "\n",
        "fig, (ax1, ax2) = plt.subplots(1,2, figsize=(15,5))\n",
        "epoch_runs = [i+1 for i in range(50)]\n",
        "ax1.plot(epoch_runs, train_loss, label=\"Training Loss\")\n",
        "ax1.plot(epoch_runs, val_loss, marker='o', label=\"Val Loss\")\n",
        "ax1.set(title='Training and Validation Loss', xlabel='Epochs', ylabel='Loss')\n",
        "ax1.legend()\n",
        "\n",
        "ax2.plot(epoch_runs, train_acc, label=\"Training Acc\")\n",
        "ax2.plot(epoch_runs, val_acc, marker='o', label=\"Val Acc\")\n",
        "ax2.set(title='Training and Validation Accuracy', xlabel='Epochs', ylabel='Acc', ylim=[0.6, 1])\n",
        "plt.show()"
      ],
      "metadata": {
        "colab": {
          "base_uri": "https://localhost:8080/",
          "height": 372
        },
        "id": "nAyXzNf0ccjr",
        "outputId": "ff33aa1a-c917-451b-d506-da30eba70d8d"
      },
      "execution_count": null,
      "outputs": [
        {
          "output_type": "display_data",
          "data": {
            "text/plain": [
              "<Figure size 1500x500 with 2 Axes>"
            ],
            "image/png": "[encoded data removed]"
          },
          "metadata": {}
        }
      ]
    },
    {
      "cell_type": "markdown",
      "source": [
        "#AlexNet"
      ],
      "metadata": {
        "id": "j_-nnSpmMrtu"
      }
    },
    {
      "cell_type": "code",
      "source": [
        "from keras.layers.core import Dense, Dropout, Activation, Flatten\n",
        "from keras.layers.convolutional import Conv2D, MaxPooling2D, ZeroPadding2D\n",
        "from keras.layers import BatchNormalization\n",
        "from keras.regularizers import l2\n",
        "from keras.models import Sequential\n",
        "from keras.losses import categorical_crossentropy\n",
        "\n",
        "\n",
        "alexnet = Sequential()\n",
        "\n",
        "\t# Layer 1\n",
        "alexnet.add(Conv2D(96, (11, 11), input_shape=input_shape, padding='same', kernel_regularizer=l2(0)))\n",
        "alexnet.add(BatchNormalization())\n",
        "alexnet.add(Activation('relu'))\n",
        "alexnet.add(MaxPooling2D(pool_size=(2, 2)))\n",
        "\n",
        "# Layer 2\n",
        "alexnet.add(Conv2D(256, (5, 5), padding='same'))\n",
        "alexnet.add(BatchNormalization())\n",
        "alexnet.add(Activation('relu'))\n",
        "alexnet.add(MaxPooling2D(pool_size=(2, 2)))\n",
        "\n",
        "# Layer 3\n",
        "alexnet.add(ZeroPadding2D((1, 1)))\n",
        "alexnet.add(Conv2D(512, (3, 3), padding='same'))\n",
        "alexnet.add(BatchNormalization())\n",
        "alexnet.add(Activation('relu'))\n",
        "alexnet.add(MaxPooling2D(pool_size=(2, 2)))\n",
        "\n",
        "# Layer 4\n",
        "alexnet.add(ZeroPadding2D((1, 1)))\n",
        "alexnet.add(Conv2D(1024, (3, 3), padding='same'))\n",
        "alexnet.add(BatchNormalization())\n",
        "alexnet.add(Activation('relu'))\n",
        "\n",
        "# Layer 5\n",
        "alexnet.add(ZeroPadding2D((1, 1)))\n",
        "alexnet.add(Conv2D(1024, (3, 3), padding='same'))\n",
        "alexnet.add(BatchNormalization())\n",
        "alexnet.add(Activation('relu'))\n",
        "alexnet.add(MaxPooling2D(pool_size=(2, 2)))\n",
        "\n",
        "# Layer 6\n",
        "alexnet.add(Flatten())\n",
        "alexnet.add(Dense(3072))\n",
        "alexnet.add(BatchNormalization())\n",
        "alexnet.add(Activation('relu'))\n",
        "alexnet.add(Dropout(0.5))\n",
        "\n",
        "# Layer 7\n",
        "alexnet.add(Dense(4096))\n",
        "alexnet.add(BatchNormalization())\n",
        "alexnet.add(Activation('relu'))\n",
        "alexnet.add(Dropout(0.5))\n",
        "\n",
        "# Layer 8\n",
        "alexnet.add(Dense(class_nums))\n",
        "alexnet.add(BatchNormalization())\n",
        "alexnet.add(Activation('softmax'))"
      ],
      "metadata": {
        "id": "fbgCRJAOi8wf"
      },
      "execution_count": null,
      "outputs": []
    },
    {
      "cell_type": "code",
      "source": [
        "alexnet.compile(loss = categorical_crossentropy, optimizer= 'adam', metrics=['accuracy'])\n",
        "alexnet.summary()"
      ],
      "metadata": {
        "colab": {
          "base_uri": "https://localhost:8080/"
        },
        "id": "G4aUxeWMM-sI",
        "outputId": "d9d111bf-469e-47e7-e132-4927d5e760a9"
      },
      "execution_count": null,
      "outputs": [
        {
          "output_type": "stream",
          "name": "stdout",
          "text": [
            "Model: \"sequential_22\"\n",
            "_________________________________________________________________\n",
            " Layer (type)                Output Shape              Param #   \n",
            "=================================================================\n",
            " conv2d_50 (Conv2D)          (None, 28, 28, 96)        11712     \n",
            "                                                                 \n",
            " batch_normalization_16 (Bat  (None, 28, 28, 96)       384       \n",
            " chNormalization)                                                \n",
            "                                                                 \n",
            " activation_16 (Activation)  (None, 28, 28, 96)        0         \n",
            "                                                                 \n",
            " max_pooling2d_42 (MaxPoolin  (None, 14, 14, 96)       0         \n",
            " g2D)                                                            \n",
            "                                                                 \n",
            " conv2d_51 (Conv2D)          (None, 14, 14, 256)       614656    \n",
            "                                                                 \n",
            " batch_normalization_17 (Bat  (None, 14, 14, 256)      1024      \n",
            " chNormalization)                                                \n",
            "                                                                 \n",
            " activation_17 (Activation)  (None, 14, 14, 256)       0         \n",
            "                                                                 \n",
            " max_pooling2d_43 (MaxPoolin  (None, 7, 7, 256)        0         \n",
            " g2D)                                                            \n",
            "                                                                 \n",
            " zero_padding2d_6 (ZeroPaddi  (None, 9, 9, 256)        0         \n",
            " ng2D)                                                           \n",
            "                                                                 \n",
            " conv2d_52 (Conv2D)          (None, 9, 9, 512)         1180160   \n",
            "                                                                 \n",
            " batch_normalization_18 (Bat  (None, 9, 9, 512)        2048      \n",
            " chNormalization)                                                \n",
            "                                                                 \n",
            " activation_18 (Activation)  (None, 9, 9, 512)         0         \n",
            "                                                                 \n",
            " max_pooling2d_44 (MaxPoolin  (None, 4, 4, 512)        0         \n",
            " g2D)                                                            \n",
            "                                                                 \n",
            " zero_padding2d_7 (ZeroPaddi  (None, 6, 6, 512)        0         \n",
            " ng2D)                                                           \n",
            "                                                                 \n",
            " conv2d_53 (Conv2D)          (None, 6, 6, 1024)        4719616   \n",
            "                                                                 \n",
            " batch_normalization_19 (Bat  (None, 6, 6, 1024)       4096      \n",
            " chNormalization)                                                \n",
            "                                                                 \n",
            " activation_19 (Activation)  (None, 6, 6, 1024)        0         \n",
            "                                                                 \n",
            " zero_padding2d_8 (ZeroPaddi  (None, 8, 8, 1024)       0         \n",
            " ng2D)                                                           \n",
            "                                                                 \n",
            " conv2d_54 (Conv2D)          (None, 8, 8, 1024)        9438208   \n",
            "                                                                 \n",
            " batch_normalization_20 (Bat  (None, 8, 8, 1024)       4096      \n",
            " chNormalization)                                                \n",
            "                                                                 \n",
            " activation_20 (Activation)  (None, 8, 8, 1024)        0         \n",
            "                                                                 \n",
            " max_pooling2d_45 (MaxPoolin  (None, 4, 4, 1024)       0         \n",
            " g2D)                                                            \n",
            "                                                                 \n",
            " flatten_22 (Flatten)        (None, 16384)             0         \n",
            "                                                                 \n",
            " dense_56 (Dense)            (None, 3072)              50334720  \n",
            "                                                                 \n",
            " batch_normalization_21 (Bat  (None, 3072)             12288     \n",
            " chNormalization)                                                \n",
            "                                                                 \n",
            " activation_21 (Activation)  (None, 3072)              0         \n",
            "                                                                 \n",
            " dropout_4 (Dropout)         (None, 3072)              0         \n",
            "                                                                 \n",
            " dense_57 (Dense)            (None, 4096)              12587008  \n",
            "                                                                 \n",
            " batch_normalization_22 (Bat  (None, 4096)             16384     \n",
            " chNormalization)                                                \n",
            "                                                                 \n",
            " activation_22 (Activation)  (None, 4096)              0         \n",
            "                                                                 \n",
            " dropout_5 (Dropout)         (None, 4096)              0         \n",
            "                                                                 \n",
            " dense_58 (Dense)            (None, 10)                40970     \n",
            "                                                                 \n",
            " batch_normalization_23 (Bat  (None, 10)               40        \n",
            " chNormalization)                                                \n",
            "                                                                 \n",
            " activation_23 (Activation)  (None, 10)                0         \n",
            "                                                                 \n",
            "=================================================================\n",
            "Total params: 78,967,410\n",
            "Trainable params: 78,947,230\n",
            "Non-trainable params: 20,180\n",
            "_________________________________________________________________\n"
          ]
        }
      ]
    },
    {
      "cell_type": "code",
      "source": [
        "alexnet.fit(x_train_fashion_mnist,\n",
        "                    y_train_fashion_mnist,\n",
        "                    validation_data = (x_val_fashion_mnist, y_val_fashion_mnist),\n",
        "                    epochs=50,\n",
        "                    batch_size = 256)"
      ],
      "metadata": {
        "colab": {
          "base_uri": "https://localhost:8080/"
        },
        "id": "ADXcHTISNr7a",
        "outputId": "63f838ce-66ad-4a69-9d09-debf978cbfe5"
      },
      "execution_count": null,
      "outputs": [
        {
          "output_type": "stream",
          "name": "stdout",
          "text": [
            "Epoch 1/50\n",
            "211/211 [==============================] - 77s 285ms/step - loss: 0.6246 - accuracy: 0.8437 - val_loss: 0.9507 - val_accuracy: 0.7712\n",
            "Epoch 2/50\n",
            "211/211 [==============================] - 46s 220ms/step - loss: 0.4247 - accuracy: 0.8932 - val_loss: 1.0350 - val_accuracy: 0.8462\n",
            "Epoch 3/50\n",
            "211/211 [==============================] - 48s 226ms/step - loss: 0.3488 - accuracy: 0.9074 - val_loss: 0.5668 - val_accuracy: 0.8627\n",
            "Epoch 4/50\n",
            "211/211 [==============================] - 46s 220ms/step - loss: 0.2971 - accuracy: 0.9166 - val_loss: 0.4062 - val_accuracy: 0.9058\n",
            "Epoch 5/50\n",
            "211/211 [==============================] - 47s 221ms/step - loss: 0.2595 - accuracy: 0.9249 - val_loss: 0.4595 - val_accuracy: 0.8712\n",
            "Epoch 6/50\n",
            "211/211 [==============================] - 47s 220ms/step - loss: 0.2321 - accuracy: 0.9316 - val_loss: 0.4485 - val_accuracy: 0.8692\n",
            "Epoch 7/50\n",
            "211/211 [==============================] - 47s 225ms/step - loss: 0.2063 - accuracy: 0.9378 - val_loss: 0.3511 - val_accuracy: 0.8972\n",
            "Epoch 8/50\n",
            "211/211 [==============================] - 46s 220ms/step - loss: 0.1815 - accuracy: 0.9454 - val_loss: 0.3411 - val_accuracy: 0.8917\n",
            "Epoch 9/50\n",
            "211/211 [==============================] - 46s 220ms/step - loss: 0.1577 - accuracy: 0.9527 - val_loss: 0.3105 - val_accuracy: 0.9035\n",
            "Epoch 10/50\n",
            "211/211 [==============================] - 47s 225ms/step - loss: 0.1397 - accuracy: 0.9585 - val_loss: 0.3254 - val_accuracy: 0.8980\n",
            "Epoch 11/50\n",
            "211/211 [==============================] - 47s 225ms/step - loss: 0.1269 - accuracy: 0.9612 - val_loss: 0.2611 - val_accuracy: 0.9165\n",
            "Epoch 12/50\n",
            "211/211 [==============================] - 47s 220ms/step - loss: 0.1084 - accuracy: 0.9674 - val_loss: 0.2778 - val_accuracy: 0.9117\n",
            "Epoch 13/50\n",
            "211/211 [==============================] - 46s 220ms/step - loss: 0.0957 - accuracy: 0.9714 - val_loss: 0.3557 - val_accuracy: 0.8880\n",
            "Epoch 14/50\n",
            "211/211 [==============================] - 47s 225ms/step - loss: 0.0819 - accuracy: 0.9758 - val_loss: 0.3176 - val_accuracy: 0.9075\n",
            "Epoch 15/50\n",
            "211/211 [==============================] - 46s 220ms/step - loss: 0.0723 - accuracy: 0.9785 - val_loss: 0.3130 - val_accuracy: 0.9057\n",
            "Epoch 16/50\n",
            "211/211 [==============================] - 47s 221ms/step - loss: 0.0665 - accuracy: 0.9806 - val_loss: 0.2852 - val_accuracy: 0.9125\n",
            "Epoch 17/50\n",
            "211/211 [==============================] - 48s 225ms/step - loss: 0.0595 - accuracy: 0.9822 - val_loss: 0.3104 - val_accuracy: 0.9080\n",
            "Epoch 18/50\n",
            "211/211 [==============================] - 48s 225ms/step - loss: 0.0509 - accuracy: 0.9853 - val_loss: 0.3643 - val_accuracy: 0.8937\n",
            "Epoch 19/50\n",
            "211/211 [==============================] - 47s 225ms/step - loss: 0.0508 - accuracy: 0.9849 - val_loss: 0.3165 - val_accuracy: 0.9030\n",
            "Epoch 20/50\n",
            "211/211 [==============================] - 47s 225ms/step - loss: 0.0456 - accuracy: 0.9868 - val_loss: 0.3128 - val_accuracy: 0.9115\n",
            "Epoch 21/50\n",
            "211/211 [==============================] - 48s 225ms/step - loss: 0.0434 - accuracy: 0.9873 - val_loss: 0.3966 - val_accuracy: 0.8900\n",
            "Epoch 22/50\n",
            "211/211 [==============================] - 46s 220ms/step - loss: 0.0384 - accuracy: 0.9885 - val_loss: 0.3449 - val_accuracy: 0.9047\n",
            "Epoch 23/50\n",
            "211/211 [==============================] - 48s 225ms/step - loss: 0.0352 - accuracy: 0.9897 - val_loss: 0.3334 - val_accuracy: 0.9110\n",
            "Epoch 24/50\n",
            "211/211 [==============================] - 46s 219ms/step - loss: 0.0313 - accuracy: 0.9908 - val_loss: 0.3191 - val_accuracy: 0.9115\n",
            "Epoch 25/50\n",
            "211/211 [==============================] - 47s 223ms/step - loss: 0.0266 - accuracy: 0.9922 - val_loss: 0.3266 - val_accuracy: 0.9152\n",
            "Epoch 26/50\n",
            "211/211 [==============================] - 47s 223ms/step - loss: 0.0287 - accuracy: 0.9914 - val_loss: 0.3798 - val_accuracy: 0.8997\n",
            "Epoch 27/50\n",
            "211/211 [==============================] - 46s 218ms/step - loss: 0.0268 - accuracy: 0.9918 - val_loss: 0.4145 - val_accuracy: 0.8990\n",
            "Epoch 28/50\n",
            "211/211 [==============================] - 46s 218ms/step - loss: 0.0292 - accuracy: 0.9909 - val_loss: 0.3826 - val_accuracy: 0.9012\n",
            "Epoch 29/50\n",
            "211/211 [==============================] - 46s 217ms/step - loss: 0.0211 - accuracy: 0.9937 - val_loss: 0.3402 - val_accuracy: 0.9143\n",
            "Epoch 30/50\n",
            "211/211 [==============================] - 47s 223ms/step - loss: 0.0221 - accuracy: 0.9931 - val_loss: 0.3455 - val_accuracy: 0.9172\n",
            "Epoch 31/50\n",
            "211/211 [==============================] - 47s 223ms/step - loss: 0.0245 - accuracy: 0.9922 - val_loss: 0.3323 - val_accuracy: 0.9123\n",
            "Epoch 32/50\n",
            "211/211 [==============================] - 48s 226ms/step - loss: 0.0219 - accuracy: 0.9933 - val_loss: 0.3937 - val_accuracy: 0.9055\n",
            "Epoch 33/50\n",
            "211/211 [==============================] - 47s 225ms/step - loss: 0.0185 - accuracy: 0.9945 - val_loss: 0.3362 - val_accuracy: 0.9142\n",
            "Epoch 34/50\n",
            "211/211 [==============================] - 47s 224ms/step - loss: 0.0212 - accuracy: 0.9935 - val_loss: 0.3785 - val_accuracy: 0.9065\n",
            "Epoch 35/50\n",
            "211/211 [==============================] - 46s 219ms/step - loss: 0.0202 - accuracy: 0.9935 - val_loss: 0.3542 - val_accuracy: 0.9137\n",
            "Epoch 36/50\n",
            "211/211 [==============================] - 47s 224ms/step - loss: 0.0150 - accuracy: 0.9958 - val_loss: 0.3797 - val_accuracy: 0.9105\n",
            "Epoch 37/50\n",
            "211/211 [==============================] - 47s 223ms/step - loss: 0.0132 - accuracy: 0.9964 - val_loss: 0.3734 - val_accuracy: 0.9097\n",
            "Epoch 38/50\n",
            "211/211 [==============================] - 47s 223ms/step - loss: 0.0154 - accuracy: 0.9956 - val_loss: 0.3605 - val_accuracy: 0.9172\n",
            "Epoch 39/50\n",
            "211/211 [==============================] - 47s 223ms/step - loss: 0.0189 - accuracy: 0.9943 - val_loss: 0.3811 - val_accuracy: 0.9138\n",
            "Epoch 40/50\n",
            "211/211 [==============================] - 47s 223ms/step - loss: 0.0183 - accuracy: 0.9942 - val_loss: 0.3464 - val_accuracy: 0.9148\n",
            "Epoch 41/50\n",
            "211/211 [==============================] - 47s 223ms/step - loss: 0.0150 - accuracy: 0.9955 - val_loss: 0.3906 - val_accuracy: 0.9073\n",
            "Epoch 42/50\n",
            "211/211 [==============================] - 46s 218ms/step - loss: 0.0125 - accuracy: 0.9962 - val_loss: 0.3322 - val_accuracy: 0.9235\n",
            "Epoch 43/50\n",
            "211/211 [==============================] - 46s 218ms/step - loss: 0.0094 - accuracy: 0.9973 - val_loss: 0.4113 - val_accuracy: 0.9075\n",
            "Epoch 44/50\n",
            "211/211 [==============================] - 46s 219ms/step - loss: 0.0118 - accuracy: 0.9963 - val_loss: 0.4037 - val_accuracy: 0.9112\n",
            "Epoch 45/50\n",
            "211/211 [==============================] - 48s 226ms/step - loss: 0.0183 - accuracy: 0.9941 - val_loss: 0.3681 - val_accuracy: 0.9172\n",
            "Epoch 46/50\n",
            "211/211 [==============================] - 46s 219ms/step - loss: 0.0135 - accuracy: 0.9961 - val_loss: 0.4332 - val_accuracy: 0.9138\n",
            "Epoch 47/50\n",
            "211/211 [==============================] - 47s 224ms/step - loss: 0.0062 - accuracy: 0.9984 - val_loss: 0.4094 - val_accuracy: 0.9167\n",
            "Epoch 48/50\n",
            "211/211 [==============================] - 46s 219ms/step - loss: 0.0152 - accuracy: 0.9954 - val_loss: 0.4547 - val_accuracy: 0.9050\n",
            "Epoch 49/50\n",
            "211/211 [==============================] - 46s 219ms/step - loss: 0.0111 - accuracy: 0.9966 - val_loss: 0.4192 - val_accuracy: 0.9072\n",
            "Epoch 50/50\n",
            "211/211 [==============================] - 46s 218ms/step - loss: 0.0134 - accuracy: 0.9959 - val_loss: 0.3714 - val_accuracy: 0.9077\n"
          ]
        },
        {
          "output_type": "execute_result",
          "data": {
            "text/plain": [
              "<keras.callbacks.History at 0x7f0c7f39c370>"
            ]
          },
          "metadata": {},
          "execution_count": 114
        }
      ]
    },
    {
      "cell_type": "code",
      "source": [
        "alexnet.evaluate(x_test_fashion_mnist, y_test_fashion_mnist)"
      ],
      "metadata": {
        "colab": {
          "base_uri": "https://localhost:8080/"
        },
        "id": "fMDoYoJwQMaT",
        "outputId": "92462ade-0607-4a1f-c149-ff7e1673bcfb"
      },
      "execution_count": null,
      "outputs": [
        {
          "output_type": "stream",
          "name": "stdout",
          "text": [
            "313/313 [==============================] - 6s 15ms/step - loss: 0.3938 - accuracy: 0.9082\n"
          ]
        },
        {
          "output_type": "execute_result",
          "data": {
            "text/plain": [
              "[0.3937714695930481, 0.9082000255584717]"
            ]
          },
          "metadata": {},
          "execution_count": 115
        }
      ]
    },
    {
      "cell_type": "code",
      "source": [
        "alexnet_plot = history_mnist.history\n",
        "     \n",
        "\n",
        "train_loss, val_loss = alexnet_plot['loss'], alexnet_plot['val_loss']\n",
        "train_acc, val_acc = alexnet_plot['accuracy'], alexnet_plot['val_accuracy']\n",
        "     \n",
        "\n",
        "fig, (ax1, ax2) = plt.subplots(1,2, figsize=(15,5))\n",
        "epoch_runs = [i+1 for i in range(50)]\n",
        "ax1.plot(epoch_runs, train_loss, label=\"Training Loss\")\n",
        "ax1.plot(epoch_runs, val_loss, marker='o', label=\"Val Loss\")\n",
        "ax1.set(title='Training and Validation Loss', xlabel='Epochs', ylabel='Loss')\n",
        "ax1.legend()\n",
        "\n",
        "ax2.plot(epoch_runs, train_acc, label=\"Training Acc\")\n",
        "ax2.plot(epoch_runs, val_acc, marker='o', label=\"Val Acc\")\n",
        "ax2.set(title='Training and Validation Accuracy', xlabel='Epochs', ylabel='Acc', ylim=[0.8, 1])\n",
        "plt.show()"
      ],
      "metadata": {
        "colab": {
          "base_uri": "https://localhost:8080/",
          "height": 235
        },
        "id": "OqUdXSveT-cU",
        "outputId": "1f93d670-3688-4bbf-c99e-d375fe42c3e7"
      },
      "execution_count": null,
      "outputs": [
        {
          "output_type": "error",
          "ename": "NameError",
          "evalue": "ignored",
          "traceback": [
            "\u001b[0;31m---------------------------------------------------------------------------\u001b[0m",
            "\u001b[0;31mNameError\u001b[0m                                 Traceback (most recent call last)",
            "\u001b[0;32m<ipython-input-1-ec403087470c>\u001b[0m in \u001b[0;36m<cell line: 1>\u001b[0;34m()\u001b[0m\n\u001b[0;32m----> 1\u001b[0;31m \u001b[0malexnet_plot\u001b[0m \u001b[0;34m=\u001b[0m \u001b[0mhistory_mnist\u001b[0m\u001b[0;34m.\u001b[0m\u001b[0mhistory\u001b[0m\u001b[0;34m\u001b[0m\u001b[0;34m\u001b[0m\u001b[0m\n\u001b[0m\u001b[1;32m      2\u001b[0m \u001b[0;34m\u001b[0m\u001b[0m\n\u001b[1;32m      3\u001b[0m \u001b[0;34m\u001b[0m\u001b[0m\n\u001b[1;32m      4\u001b[0m \u001b[0mtrain_loss\u001b[0m\u001b[0;34m,\u001b[0m \u001b[0mval_loss\u001b[0m \u001b[0;34m=\u001b[0m \u001b[0malexnet_plot\u001b[0m\u001b[0;34m[\u001b[0m\u001b[0;34m'loss'\u001b[0m\u001b[0;34m]\u001b[0m\u001b[0;34m,\u001b[0m \u001b[0malexnet_plot\u001b[0m\u001b[0;34m[\u001b[0m\u001b[0;34m'val_loss'\u001b[0m\u001b[0;34m]\u001b[0m\u001b[0;34m\u001b[0m\u001b[0;34m\u001b[0m\u001b[0m\n\u001b[1;32m      5\u001b[0m \u001b[0mtrain_acc\u001b[0m\u001b[0;34m,\u001b[0m \u001b[0mval_acc\u001b[0m \u001b[0;34m=\u001b[0m \u001b[0malexnet_plot\u001b[0m\u001b[0;34m[\u001b[0m\u001b[0;34m'accuracy'\u001b[0m\u001b[0;34m]\u001b[0m\u001b[0;34m,\u001b[0m \u001b[0malexnet_plot\u001b[0m\u001b[0;34m[\u001b[0m\u001b[0;34m'val_accuracy'\u001b[0m\u001b[0;34m]\u001b[0m\u001b[0;34m\u001b[0m\u001b[0;34m\u001b[0m\u001b[0m\n",
            "\u001b[0;31mNameError\u001b[0m: name 'history_mnist' is not defined"
          ]
        }
      ]
    },
    {
      "cell_type": "code",
      "source": [],
      "metadata": {
        "id": "ABYYl6Y6UHgL"
      },
      "execution_count": null,
      "outputs": []
    }
  ]
}